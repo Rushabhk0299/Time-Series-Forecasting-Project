{
 "cells": [
  {
   "cell_type": "markdown",
   "metadata": {},
   "source": [
    " ### Forcasting -  Natural Gas Stock\n",
    " ### Stock Market Prediction And Forecasting Using Stacked LSTM "
   ]
  },
  {
   "cell_type": "code",
   "execution_count": 1,
   "metadata": {
    "ExecuteTime": {
     "end_time": "2022-05-08T10:22:31.579614Z",
     "start_time": "2022-05-08T10:22:28.118238Z"
    }
   },
   "outputs": [],
   "source": [
    "#Importing the required Libraries\n",
    "import numpy as np\n",
    "import pandas as pd\n",
    "from pandas.tseries.offsets import DateOffset\n",
    "import scipy.stats as stats\n",
    "import matplotlib.pyplot as plt\n",
    "%matplotlib inline\n",
    "import seaborn as sns\n",
    "\n",
    "#Forecasting Plots\n",
    "from pandas.plotting import lag_plot\n",
    "from statsmodels.graphics.tsaplots import plot_acf\n",
    "from statsmodels.tsa.seasonal import seasonal_decompose"
   ]
  },
  {
   "cell_type": "code",
   "execution_count": 2,
   "metadata": {
    "ExecuteTime": {
     "end_time": "2022-05-08T10:22:31.627335Z",
     "start_time": "2022-05-08T10:22:31.579614Z"
    },
    "scrolled": true
   },
   "outputs": [
    {
     "data": {
      "text/html": [
       "<div>\n",
       "<style scoped>\n",
       "    .dataframe tbody tr th:only-of-type {\n",
       "        vertical-align: middle;\n",
       "    }\n",
       "\n",
       "    .dataframe tbody tr th {\n",
       "        vertical-align: top;\n",
       "    }\n",
       "\n",
       "    .dataframe thead th {\n",
       "        text-align: right;\n",
       "    }\n",
       "</style>\n",
       "<table border=\"1\" class=\"dataframe\">\n",
       "  <thead>\n",
       "    <tr style=\"text-align: right;\">\n",
       "      <th></th>\n",
       "      <th>Date</th>\n",
       "      <th>Price</th>\n",
       "      <th>Open</th>\n",
       "      <th>High</th>\n",
       "      <th>Low</th>\n",
       "      <th>Vol.</th>\n",
       "      <th>Change %</th>\n",
       "    </tr>\n",
       "  </thead>\n",
       "  <tbody>\n",
       "    <tr>\n",
       "      <th>0</th>\n",
       "      <td>Mar 25, 2022</td>\n",
       "      <td>5.571</td>\n",
       "      <td>5.401</td>\n",
       "      <td>5.577</td>\n",
       "      <td>5.345</td>\n",
       "      <td>-</td>\n",
       "      <td>3.15%</td>\n",
       "    </tr>\n",
       "    <tr>\n",
       "      <th>1</th>\n",
       "      <td>Mar 24, 2022</td>\n",
       "      <td>5.401</td>\n",
       "      <td>5.115</td>\n",
       "      <td>5.464</td>\n",
       "      <td>5.063</td>\n",
       "      <td>84.23K</td>\n",
       "      <td>3.23%</td>\n",
       "    </tr>\n",
       "    <tr>\n",
       "      <th>2</th>\n",
       "      <td>Mar 23, 2022</td>\n",
       "      <td>5.232</td>\n",
       "      <td>5.147</td>\n",
       "      <td>5.330</td>\n",
       "      <td>5.092</td>\n",
       "      <td>74.54K</td>\n",
       "      <td>0.87%</td>\n",
       "    </tr>\n",
       "    <tr>\n",
       "      <th>3</th>\n",
       "      <td>Mar 22, 2022</td>\n",
       "      <td>5.187</td>\n",
       "      <td>4.948</td>\n",
       "      <td>5.204</td>\n",
       "      <td>4.877</td>\n",
       "      <td>122.75K</td>\n",
       "      <td>5.86%</td>\n",
       "    </tr>\n",
       "    <tr>\n",
       "      <th>4</th>\n",
       "      <td>Mar 21, 2022</td>\n",
       "      <td>4.900</td>\n",
       "      <td>4.909</td>\n",
       "      <td>4.976</td>\n",
       "      <td>4.748</td>\n",
       "      <td>75.46K</td>\n",
       "      <td>0.76%</td>\n",
       "    </tr>\n",
       "  </tbody>\n",
       "</table>\n",
       "</div>"
      ],
      "text/plain": [
       "           Date  Price   Open   High    Low     Vol. Change %\n",
       "0  Mar 25, 2022  5.571  5.401  5.577  5.345        -    3.15%\n",
       "1  Mar 24, 2022  5.401  5.115  5.464  5.063   84.23K    3.23%\n",
       "2  Mar 23, 2022  5.232  5.147  5.330  5.092   74.54K    0.87%\n",
       "3  Mar 22, 2022  5.187  4.948  5.204  4.877  122.75K    5.86%\n",
       "4  Mar 21, 2022  4.900  4.909  4.976  4.748   75.46K    0.76%"
      ]
     },
     "execution_count": 2,
     "metadata": {},
     "output_type": "execute_result"
    }
   ],
   "source": [
    "# Loading the Dataset\n",
    "tsd=pd.read_csv(\"C:/Users/MANISHA/Desktop/Natural Gas Futures Historical Data.csv\")\n",
    "tsd.head()"
   ]
  },
  {
   "cell_type": "markdown",
   "metadata": {},
   "source": [
    "Inference: The Dataset is loaded, this is our original dataset"
   ]
  },
  {
   "cell_type": "markdown",
   "metadata": {},
   "source": [
    "###  EDA "
   ]
  },
  {
   "cell_type": "code",
   "execution_count": 3,
   "metadata": {
    "ExecuteTime": {
     "end_time": "2022-05-08T10:22:31.643336Z",
     "start_time": "2022-05-08T10:22:31.630337Z"
    },
    "scrolled": true
   },
   "outputs": [
    {
     "data": {
      "text/plain": [
       "(3897, 7)"
      ]
     },
     "execution_count": 3,
     "metadata": {},
     "output_type": "execute_result"
    }
   ],
   "source": [
    "#Checking the shape of the Dataset\n",
    "tsd.shape"
   ]
  },
  {
   "cell_type": "markdown",
   "metadata": {},
   "source": [
    "Inference: The Dataset consists of 3897 rows & 7 columns."
   ]
  },
  {
   "cell_type": "code",
   "execution_count": 4,
   "metadata": {
    "ExecuteTime": {
     "end_time": "2022-05-08T10:22:31.674340Z",
     "start_time": "2022-05-08T10:22:31.647338Z"
    }
   },
   "outputs": [
    {
     "name": "stdout",
     "output_type": "stream",
     "text": [
      "No of Unique Values in Date 3897\n",
      "No of Unique Values in Price 2524\n"
     ]
    }
   ],
   "source": [
    "#No of Unique Values\n",
    "print('No of Unique Values in Date',len(tsd['Date'].unique()))\n",
    "print('No of Unique Values in Price',len(tsd['Price'].unique()))"
   ]
  },
  {
   "cell_type": "code",
   "execution_count": 5,
   "metadata": {
    "ExecuteTime": {
     "end_time": "2022-05-08T10:22:31.689340Z",
     "start_time": "2022-05-08T10:22:31.677340Z"
    },
    "scrolled": true
   },
   "outputs": [
    {
     "data": {
      "text/plain": [
       "Date        0\n",
       "Price       0\n",
       "Open        0\n",
       "High        0\n",
       "Low         0\n",
       "Vol.        0\n",
       "Change %    0\n",
       "dtype: int64"
      ]
     },
     "execution_count": 5,
     "metadata": {},
     "output_type": "execute_result"
    }
   ],
   "source": [
    "#Checking for NA Values\n",
    "tsd.isnull().sum()"
   ]
  },
  {
   "cell_type": "markdown",
   "metadata": {},
   "source": [
    "Inference: There are no NA Values present in the Dataset"
   ]
  },
  {
   "cell_type": "code",
   "execution_count": 6,
   "metadata": {
    "ExecuteTime": {
     "end_time": "2022-05-08T10:22:31.704342Z",
     "start_time": "2022-05-08T10:22:31.691341Z"
    },
    "scrolled": false
   },
   "outputs": [
    {
     "data": {
      "text/plain": [
       "Date         object\n",
       "Price       float64\n",
       "Open        float64\n",
       "High        float64\n",
       "Low         float64\n",
       "Vol.         object\n",
       "Change %     object\n",
       "dtype: object"
      ]
     },
     "execution_count": 6,
     "metadata": {},
     "output_type": "execute_result"
    }
   ],
   "source": [
    "#Checkinng the Dtypes of Column/Variable\n",
    "tsd.dtypes"
   ]
  },
  {
   "cell_type": "markdown",
   "metadata": {},
   "source": [
    "Inference: Will Convert the Date (Yt) Columns into Datetime dtypes"
   ]
  },
  {
   "cell_type": "code",
   "execution_count": 7,
   "metadata": {
    "ExecuteTime": {
     "end_time": "2022-05-08T10:22:32.212994Z",
     "start_time": "2022-05-08T10:22:31.707343Z"
    }
   },
   "outputs": [
    {
     "data": {
      "text/plain": [
       "Date        datetime64[ns]\n",
       "Price              float64\n",
       "Open               float64\n",
       "High               float64\n",
       "Low                float64\n",
       "Vol.                object\n",
       "Change %            object\n",
       "dtype: object"
      ]
     },
     "execution_count": 7,
     "metadata": {},
     "output_type": "execute_result"
    }
   ],
   "source": [
    "# Converting \"Year\" column (Yt variable) to datetime\n",
    "tsd['Date'] = pd.to_datetime(tsd['Date'])\n",
    "tsd.dtypes"
   ]
  },
  {
   "cell_type": "markdown",
   "metadata": {},
   "source": [
    "Inference: Now \"Date\" column i.e t variable is converted to datetime. So mostly EDA is Done we can Now Move to Descriptive Stats & Visualization Part."
   ]
  },
  {
   "cell_type": "code",
   "execution_count": 8,
   "metadata": {
    "ExecuteTime": {
     "end_time": "2022-05-08T10:22:32.244995Z",
     "start_time": "2022-05-08T10:22:32.216994Z"
    }
   },
   "outputs": [
    {
     "name": "stdout",
     "output_type": "stream",
     "text": [
      "Minimum Date is : 2007-02-28 00:00:00\n",
      "Maximum Date is : 2022-03-25 00:00:00\n"
     ]
    }
   ],
   "source": [
    "#Date Ranges\n",
    "print(\"Minimum Date is :\",min(tsd['Date']))\n",
    "print(\"Maximum Date is :\",max(tsd['Date']))"
   ]
  },
  {
   "cell_type": "markdown",
   "metadata": {},
   "source": [
    "#### Descriptive Stats"
   ]
  },
  {
   "cell_type": "code",
   "execution_count": 9,
   "metadata": {
    "ExecuteTime": {
     "end_time": "2022-05-08T10:22:32.276998Z",
     "start_time": "2022-05-08T10:22:32.248999Z"
    }
   },
   "outputs": [
    {
     "data": {
      "text/plain": [
       "count    3897.000000\n",
       "mean        3.892345\n",
       "std         1.880477\n",
       "min         1.482000\n",
       "25%         2.729000\n",
       "50%         3.418000\n",
       "75%         4.355000\n",
       "max        13.577000\n",
       "Name: Price, dtype: float64"
      ]
     },
     "execution_count": 9,
     "metadata": {},
     "output_type": "execute_result"
    }
   ],
   "source": [
    "#Descritive Stats of the Dataset\n",
    "tsd[\"Price\"].describe()"
   ]
  },
  {
   "cell_type": "markdown",
   "metadata": {},
   "source": [
    "Inference: We can see here, Minimum Price is 1.482, Maximum Price is 13.577 with Average Price of 3.418 & std of 1.88"
   ]
  },
  {
   "cell_type": "markdown",
   "metadata": {},
   "source": [
    "#### Visualization"
   ]
  },
  {
   "cell_type": "code",
   "execution_count": 10,
   "metadata": {
    "ExecuteTime": {
     "end_time": "2022-05-08T10:22:32.309001Z",
     "start_time": "2022-05-08T10:22:32.278999Z"
    }
   },
   "outputs": [
    {
     "data": {
      "text/html": [
       "<div>\n",
       "<style scoped>\n",
       "    .dataframe tbody tr th:only-of-type {\n",
       "        vertical-align: middle;\n",
       "    }\n",
       "\n",
       "    .dataframe tbody tr th {\n",
       "        vertical-align: top;\n",
       "    }\n",
       "\n",
       "    .dataframe thead th {\n",
       "        text-align: right;\n",
       "    }\n",
       "</style>\n",
       "<table border=\"1\" class=\"dataframe\">\n",
       "  <thead>\n",
       "    <tr style=\"text-align: right;\">\n",
       "      <th></th>\n",
       "      <th>Price</th>\n",
       "      <th>Open</th>\n",
       "      <th>High</th>\n",
       "      <th>Low</th>\n",
       "      <th>Vol.</th>\n",
       "      <th>Change %</th>\n",
       "    </tr>\n",
       "    <tr>\n",
       "      <th>Date</th>\n",
       "      <th></th>\n",
       "      <th></th>\n",
       "      <th></th>\n",
       "      <th></th>\n",
       "      <th></th>\n",
       "      <th></th>\n",
       "    </tr>\n",
       "  </thead>\n",
       "  <tbody>\n",
       "    <tr>\n",
       "      <th>2022-03-25</th>\n",
       "      <td>5.571</td>\n",
       "      <td>5.401</td>\n",
       "      <td>5.577</td>\n",
       "      <td>5.345</td>\n",
       "      <td>-</td>\n",
       "      <td>3.15%</td>\n",
       "    </tr>\n",
       "    <tr>\n",
       "      <th>2022-03-24</th>\n",
       "      <td>5.401</td>\n",
       "      <td>5.115</td>\n",
       "      <td>5.464</td>\n",
       "      <td>5.063</td>\n",
       "      <td>84.23K</td>\n",
       "      <td>3.23%</td>\n",
       "    </tr>\n",
       "    <tr>\n",
       "      <th>2022-03-23</th>\n",
       "      <td>5.232</td>\n",
       "      <td>5.147</td>\n",
       "      <td>5.330</td>\n",
       "      <td>5.092</td>\n",
       "      <td>74.54K</td>\n",
       "      <td>0.87%</td>\n",
       "    </tr>\n",
       "    <tr>\n",
       "      <th>2022-03-22</th>\n",
       "      <td>5.187</td>\n",
       "      <td>4.948</td>\n",
       "      <td>5.204</td>\n",
       "      <td>4.877</td>\n",
       "      <td>122.75K</td>\n",
       "      <td>5.86%</td>\n",
       "    </tr>\n",
       "    <tr>\n",
       "      <th>2022-03-21</th>\n",
       "      <td>4.900</td>\n",
       "      <td>4.909</td>\n",
       "      <td>4.976</td>\n",
       "      <td>4.748</td>\n",
       "      <td>75.46K</td>\n",
       "      <td>0.76%</td>\n",
       "    </tr>\n",
       "  </tbody>\n",
       "</table>\n",
       "</div>"
      ],
      "text/plain": [
       "            Price   Open   High    Low     Vol. Change %\n",
       "Date                                                    \n",
       "2022-03-25  5.571  5.401  5.577  5.345        -    3.15%\n",
       "2022-03-24  5.401  5.115  5.464  5.063   84.23K    3.23%\n",
       "2022-03-23  5.232  5.147  5.330  5.092   74.54K    0.87%\n",
       "2022-03-22  5.187  4.948  5.204  4.877  122.75K    5.86%\n",
       "2022-03-21  4.900  4.909  4.976  4.748   75.46K    0.76%"
      ]
     },
     "execution_count": 10,
     "metadata": {},
     "output_type": "execute_result"
    }
   ],
   "source": [
    "#Converting the Year Column into Index For Visualization\n",
    "tsd1=tsd.set_index(['Date'])\n",
    "tsd1.head()"
   ]
  },
  {
   "cell_type": "code",
   "execution_count": 11,
   "metadata": {
    "ExecuteTime": {
     "end_time": "2022-05-08T10:22:32.673303Z",
     "start_time": "2022-05-08T10:22:32.312002Z"
    }
   },
   "outputs": [
    {
     "data": {
      "image/png": "[encoded data removed]",
      "text/plain": [
       "<Figure size 1728x432 with 1 Axes>"
      ]
     },
     "metadata": {
      "needs_background": "light"
     },
     "output_type": "display_data"
    }
   ],
   "source": [
    "# Line Plot\n",
    "fig = plt.figure(figsize=(24,6)) \n",
    "plt.plot(tsd1[\"Price\"], color = 'g')\n",
    "plt.xlabel('Year')                                      \n",
    "plt.ylabel('Price')                                    \n",
    "plt.title('Year Wise Price')\n",
    "plt.show()"
   ]
  },
  {
   "cell_type": "markdown",
   "metadata": {},
   "source": [
    "Inference: A Line Plot Showing Year wise Price,Here we can see Earlier (from the year 2007 to 2009) It went up Exponentially, and after 2009 it comes down Drastically.\n",
    "\n",
    "we can also see there is no sign of seasonality(Fluctuations Changes Drastically over the period of time)\n",
    "\n",
    "So this Timeseries data has an Exponential Trend with No Seasonal Component"
   ]
  },
  {
   "cell_type": "markdown",
   "metadata": {},
   "source": [
    "#### Histogram & Density Plots"
   ]
  },
  {
   "cell_type": "code",
   "execution_count": 12,
   "metadata": {
    "ExecuteTime": {
     "end_time": "2022-05-08T10:22:32.908595Z",
     "start_time": "2022-05-08T10:22:32.675307Z"
    }
   },
   "outputs": [
    {
     "data": {
      "image/png": "[encoded data removed]",
      "text/plain": [
       "<Figure size 432x288 with 1 Axes>"
      ]
     },
     "metadata": {
      "needs_background": "light"
     },
     "output_type": "display_data"
    }
   ],
   "source": [
    "# Histogram\n",
    "plt.hist(tsd1.Price, color ='Green',edgecolor =\"black\")\n",
    "plt.xlabel('Price / Bin Ranges')                                      \n",
    "plt.ylabel('No of Datapoint')                                    \n",
    "plt.title('Histogram of Price')\n",
    "plt.show()"
   ]
  },
  {
   "cell_type": "markdown",
   "metadata": {},
   "source": [
    "Inference: The Data is not normally Distribution More Values are Concentrated around 1 to 5 Bin range, Will handle this problem in the later part of Model Building"
   ]
  },
  {
   "cell_type": "code",
   "execution_count": 13,
   "metadata": {
    "ExecuteTime": {
     "end_time": "2022-05-08T10:22:33.269671Z",
     "start_time": "2022-05-08T10:22:32.911596Z"
    },
    "scrolled": true
   },
   "outputs": [
    {
     "data": {
      "image/png": "[encoded data removed]",
      "text/plain": [
       "<Figure size 432x288 with 1 Axes>"
      ]
     },
     "metadata": {
      "needs_background": "light"
     },
     "output_type": "display_data"
    }
   ],
   "source": [
    "#Density plot\n",
    "tsd1['Price'].plot(kind='kde',color='g')\n",
    "plt.xlabel('Price')\n",
    "plt.title('Density plot of Price')\n",
    "plt.show()"
   ]
  },
  {
   "cell_type": "markdown",
   "metadata": {},
   "source": [
    "Inference: The Data is not normally Distribution More Values are Concentrated around 1 to 5 Bin range, Will handle this problem in the later part of Model Building"
   ]
  },
  {
   "cell_type": "markdown",
   "metadata": {},
   "source": [
    "#### Lag Plot"
   ]
  },
  {
   "cell_type": "code",
   "execution_count": 14,
   "metadata": {
    "ExecuteTime": {
     "end_time": "2022-05-08T10:22:33.492362Z",
     "start_time": "2022-05-08T10:22:33.271671Z"
    }
   },
   "outputs": [
    {
     "data": {
      "image/png": "[encoded data removed]",
      "text/plain": [
       "<Figure size 432x288 with 1 Axes>"
      ]
     },
     "metadata": {
      "needs_background": "light"
     },
     "output_type": "display_data"
    }
   ],
   "source": [
    "#A Lag Plot\n",
    "lag_plot(tsd1.Price,c = 'g')\n",
    "plt.title('Lag Plot')\n",
    "plt.show()"
   ]
  },
  {
   "cell_type": "markdown",
   "metadata": {},
   "source": [
    "Inference:There is a Linear Relationship between the Y(t) & Y(t + 1) Variable"
   ]
  },
  {
   "cell_type": "markdown",
   "metadata": {},
   "source": [
    "#### Correlogram / ACF Plot"
   ]
  },
  {
   "cell_type": "code",
   "execution_count": 15,
   "metadata": {
    "ExecuteTime": {
     "end_time": "2022-05-08T10:22:33.696562Z",
     "start_time": "2022-05-08T10:22:33.494366Z"
    }
   },
   "outputs": [
    {
     "data": {
      "image/png": "[encoded data removed]",
      "text/plain": [
       "<Figure size 432x288 with 1 Axes>"
      ]
     },
     "metadata": {
      "needs_background": "light"
     },
     "output_type": "display_data"
    }
   ],
   "source": [
    "# A autocorrelation plot\n",
    "plot_acf(tsd1.Price, c ='g')\n",
    "plt.show()"
   ]
  },
  {
   "cell_type": "markdown",
   "metadata": {},
   "source": [
    "Inference: This is An Autocorrelation Plot, here we can see the standard Error(SE) ranges from -0.2 to 0.2.\n",
    "\n",
    "The lag variable which are above the standard error range then those variables are statistically significant\n",
    "\n",
    "So in Our case the all the lagged variable are significant."
   ]
  },
  {
   "cell_type": "markdown",
   "metadata": {},
   "source": [
    "#### Time series decomposition plot"
   ]
  },
  {
   "cell_type": "code",
   "execution_count": 16,
   "metadata": {
    "ExecuteTime": {
     "end_time": "2022-05-08T10:22:34.292644Z",
     "start_time": "2022-05-08T10:22:33.698563Z"
    }
   },
   "outputs": [
    {
     "data": {
      "image/png": "[encoded data removed]",
      "text/plain": [
       "<Figure size 432x288 with 4 Axes>"
      ]
     },
     "metadata": {
      "needs_background": "light"
     },
     "output_type": "display_data"
    }
   ],
   "source": [
    "decompose = seasonal_decompose(tsd1.Price, period=1)\n",
    "decompose.plot()\n",
    "plt.title(\"Decomposition Plot\")\n",
    "plt.show()"
   ]
  },
  {
   "cell_type": "markdown",
   "metadata": {},
   "source": [
    "Inference: Now We can say its Confirm there is no Seasonality only Trend\n",
    "\n",
    "We Can Visualize it is a Exponential Trend & No Seasonality."
   ]
  },
  {
   "cell_type": "code",
   "execution_count": 17,
   "metadata": {
    "ExecuteTime": {
     "end_time": "2022-05-08T10:22:34.307645Z",
     "start_time": "2022-05-08T10:22:34.294647Z"
    }
   },
   "outputs": [],
   "source": [
    "tsd1=tsd.reset_index()['Price']"
   ]
  },
  {
   "cell_type": "code",
   "execution_count": 18,
   "metadata": {
    "ExecuteTime": {
     "end_time": "2022-05-08T10:22:34.323647Z",
     "start_time": "2022-05-08T10:22:34.310651Z"
    }
   },
   "outputs": [
    {
     "data": {
      "text/plain": [
       "(3897,)"
      ]
     },
     "execution_count": 18,
     "metadata": {},
     "output_type": "execute_result"
    }
   ],
   "source": [
    "tsd1.shape"
   ]
  },
  {
   "cell_type": "code",
   "execution_count": 19,
   "metadata": {
    "ExecuteTime": {
     "end_time": "2022-05-08T10:22:34.338648Z",
     "start_time": "2022-05-08T10:22:34.325650Z"
    }
   },
   "outputs": [
    {
     "data": {
      "text/plain": [
       "0       5.571\n",
       "1       5.401\n",
       "2       5.232\n",
       "3       5.187\n",
       "4       4.900\n",
       "        ...  \n",
       "3892    7.472\n",
       "3893    7.254\n",
       "3894    7.243\n",
       "3895    7.288\n",
       "3896    7.300\n",
       "Name: Price, Length: 3897, dtype: float64"
      ]
     },
     "execution_count": 19,
     "metadata": {},
     "output_type": "execute_result"
    }
   ],
   "source": [
    "tsd1"
   ]
  },
  {
   "cell_type": "code",
   "execution_count": 20,
   "metadata": {
    "ExecuteTime": {
     "end_time": "2022-05-08T10:22:34.686301Z",
     "start_time": "2022-05-08T10:22:34.341655Z"
    }
   },
   "outputs": [
    {
     "data": {
      "text/plain": [
       "[<matplotlib.lines.Line2D at 0x22ca0b69250>]"
      ]
     },
     "execution_count": 20,
     "metadata": {},
     "output_type": "execute_result"
    },
    {
     "data": {
      "image/png": "[encoded data removed]",
      "text/plain": [
       "<Figure size 1728x432 with 1 Axes>"
      ]
     },
     "metadata": {
      "needs_background": "light"
     },
     "output_type": "display_data"
    }
   ],
   "source": [
    "fig = plt.figure(figsize=(24,6)) \n",
    "plt.plot(tsd1)"
   ]
  },
  {
   "cell_type": "code",
   "execution_count": 21,
   "metadata": {
    "ExecuteTime": {
     "end_time": "2022-05-08T10:22:34.702303Z",
     "start_time": "2022-05-08T10:22:34.689304Z"
    }
   },
   "outputs": [],
   "source": [
    "### LSTM are sensitive to the scale of the data. so we apply MinMax scaler"
   ]
  },
  {
   "cell_type": "code",
   "execution_count": 22,
   "metadata": {
    "ExecuteTime": {
     "end_time": "2022-05-08T10:22:35.814407Z",
     "start_time": "2022-05-08T10:22:34.705306Z"
    }
   },
   "outputs": [],
   "source": [
    "from sklearn.preprocessing import MinMaxScaler\n",
    "scaler = MinMaxScaler(feature_range=(0,1))\n",
    "tsd1=scaler.fit_transform(np.array(tsd1).reshape(-1,1))"
   ]
  },
  {
   "cell_type": "code",
   "execution_count": 23,
   "metadata": {
    "ExecuteTime": {
     "end_time": "2022-05-08T10:22:35.830451Z",
     "start_time": "2022-05-08T10:22:35.819945Z"
    }
   },
   "outputs": [
    {
     "data": {
      "text/plain": [
       "(3897, 1)"
      ]
     },
     "execution_count": 23,
     "metadata": {},
     "output_type": "execute_result"
    }
   ],
   "source": [
    "tsd1.shape"
   ]
  },
  {
   "cell_type": "code",
   "execution_count": 24,
   "metadata": {
    "ExecuteTime": {
     "end_time": "2022-05-08T10:22:35.845699Z",
     "start_time": "2022-05-08T10:22:35.833702Z"
    }
   },
   "outputs": [
    {
     "name": "stdout",
     "output_type": "stream",
     "text": [
      "[[0.33807358]\n",
      " [0.32401819]\n",
      " [0.31004547]\n",
      " ...\n",
      " [0.47631253]\n",
      " [0.48003307]\n",
      " [0.48102522]]\n"
     ]
    }
   ],
   "source": [
    "print(tsd1)"
   ]
  },
  {
   "cell_type": "markdown",
   "metadata": {},
   "source": [
    "### Splitting dataset into train and test split"
   ]
  },
  {
   "cell_type": "code",
   "execution_count": 25,
   "metadata": {
    "ExecuteTime": {
     "end_time": "2022-05-08T10:22:35.861702Z",
     "start_time": "2022-05-08T10:22:35.850701Z"
    }
   },
   "outputs": [],
   "source": [
    "training_size = int(len(tsd1)*0.70)\n",
    "test_size = int(len(tsd1)*0.30)\n",
    "train_data,test_data = tsd1[0:training_size,:],tsd1[training_size:len(tsd1),:1]"
   ]
  },
  {
   "cell_type": "code",
   "execution_count": 26,
   "metadata": {
    "ExecuteTime": {
     "end_time": "2022-05-08T10:22:35.877703Z",
     "start_time": "2022-05-08T10:22:35.864702Z"
    }
   },
   "outputs": [
    {
     "data": {
      "text/plain": [
       "(2727, 1170)"
      ]
     },
     "execution_count": 26,
     "metadata": {},
     "output_type": "execute_result"
    }
   ],
   "source": [
    "len(train_data),len(test_data)"
   ]
  },
  {
   "cell_type": "code",
   "execution_count": 27,
   "metadata": {
    "ExecuteTime": {
     "end_time": "2022-05-08T10:22:35.893704Z",
     "start_time": "2022-05-08T10:22:35.880704Z"
    }
   },
   "outputs": [
    {
     "data": {
      "text/plain": [
       "array([[0.33807358],\n",
       "       [0.32401819],\n",
       "       [0.31004547],\n",
       "       ...,\n",
       "       [0.17759405],\n",
       "       [0.17395618],\n",
       "       [0.17122778]])"
      ]
     },
     "execution_count": 27,
     "metadata": {},
     "output_type": "execute_result"
    }
   ],
   "source": [
    "train_data"
   ]
  },
  {
   "cell_type": "code",
   "execution_count": 28,
   "metadata": {
    "ExecuteTime": {
     "end_time": "2022-05-08T10:22:35.925706Z",
     "start_time": "2022-05-08T10:22:35.905708Z"
    }
   },
   "outputs": [],
   "source": [
    "### convert an array of values into a dataset matrix\n",
    "import numpy\n",
    "def create_dataset(dataset, time_step=1):\n",
    "    dataX,dataY = [], []\n",
    "    for i in range(len(dataset)-time_step-1):\n",
    "        a = dataset[i:(i+time_step),0]    ### i=0,1,2,3\n",
    "        dataX.append(a)\n",
    "        dataY.append(dataset[i + time_step, 0])\n",
    "    return numpy.array(dataX) , numpy.array(dataY)"
   ]
  },
  {
   "cell_type": "code",
   "execution_count": 29,
   "metadata": {
    "ExecuteTime": {
     "end_time": "2022-05-08T10:22:35.941710Z",
     "start_time": "2022-05-08T10:22:35.928707Z"
    }
   },
   "outputs": [],
   "source": [
    "### reshape into X=t, t+1,t+2,t+3  and Y=t+4\n",
    "time_step = 100\n",
    "X_train, y_train = create_dataset(train_data,time_step)\n",
    "X_test, y_test = create_dataset(test_data,time_step)"
   ]
  },
  {
   "cell_type": "code",
   "execution_count": 30,
   "metadata": {
    "ExecuteTime": {
     "end_time": "2022-05-08T10:22:35.957709Z",
     "start_time": "2022-05-08T10:22:35.943707Z"
    }
   },
   "outputs": [
    {
     "name": "stdout",
     "output_type": "stream",
     "text": [
      "[[0.33807358 0.32401819 0.31004547 ... 0.30318313 0.28094254 0.28912774]\n",
      " [0.32401819 0.31004547 0.30632493 ... 0.28094254 0.28912774 0.32616784]\n",
      " [0.31004547 0.30632493 0.28259611 ... 0.28912774 0.32616784 0.33352625]\n",
      " ...\n",
      " [0.0697809  0.065895   0.06630839 ... 0.1742869  0.17990905 0.1754444 ]\n",
      " [0.065895   0.06630839 0.06754857 ... 0.17990905 0.1754444  0.17751137]\n",
      " [0.06630839 0.06754857 0.06506821 ... 0.1754444  0.17751137 0.17759405]]\n"
     ]
    }
   ],
   "source": [
    "print(X_train)"
   ]
  },
  {
   "cell_type": "code",
   "execution_count": 31,
   "metadata": {
    "ExecuteTime": {
     "end_time": "2022-05-08T10:22:35.973711Z",
     "start_time": "2022-05-08T10:22:35.960710Z"
    }
   },
   "outputs": [
    {
     "name": "stdout",
     "output_type": "stream",
     "text": [
      "(2626, 100)\n",
      "(2626,)\n"
     ]
    },
    {
     "data": {
      "text/plain": [
       "(None, None)"
      ]
     },
     "execution_count": 31,
     "metadata": {},
     "output_type": "execute_result"
    }
   ],
   "source": [
    "print(X_train.shape), print(y_train.shape)"
   ]
  },
  {
   "cell_type": "code",
   "execution_count": 32,
   "metadata": {
    "ExecuteTime": {
     "end_time": "2022-05-08T10:22:35.989711Z",
     "start_time": "2022-05-08T10:22:35.977712Z"
    }
   },
   "outputs": [
    {
     "name": "stdout",
     "output_type": "stream",
     "text": [
      "(1069, 100)\n",
      "(1069,)\n"
     ]
    },
    {
     "data": {
      "text/plain": [
       "(None, None)"
      ]
     },
     "execution_count": 32,
     "metadata": {},
     "output_type": "execute_result"
    }
   ],
   "source": [
    "print(X_test.shape), print(y_test.shape)"
   ]
  },
  {
   "cell_type": "code",
   "execution_count": 33,
   "metadata": {
    "ExecuteTime": {
     "end_time": "2022-05-08T10:22:36.005711Z",
     "start_time": "2022-05-08T10:22:35.992713Z"
    }
   },
   "outputs": [],
   "source": [
    "# reshape input to be [samples,time steps ,features] which reqruired for LSTM\n",
    "X_train = X_train.reshape(X_train.shape[0],X_train.shape[1], 1)\n",
    "X_test = X_test.reshape(X_test.shape[0],X_test.shape[1], 1)"
   ]
  },
  {
   "cell_type": "markdown",
   "metadata": {},
   "source": [
    "### Create the LSTM Model"
   ]
  },
  {
   "cell_type": "code",
   "execution_count": 34,
   "metadata": {
    "ExecuteTime": {
     "end_time": "2022-05-08T10:22:41.686200Z",
     "start_time": "2022-05-08T10:22:36.008716Z"
    }
   },
   "outputs": [],
   "source": [
    "from tensorflow.keras.models import Sequential\n",
    "from tensorflow.keras.layers import Dense\n",
    "from tensorflow.keras.layers import LSTM"
   ]
  },
  {
   "cell_type": "code",
   "execution_count": 35,
   "metadata": {
    "ExecuteTime": {
     "end_time": "2022-05-08T10:22:42.535955Z",
     "start_time": "2022-05-08T10:22:41.686200Z"
    }
   },
   "outputs": [],
   "source": [
    "model = Sequential()\n",
    "model.add(LSTM(50,return_sequences = True,input_shape =(100,1)))\n",
    "model.add(LSTM(50,return_sequences = True))\n",
    "model.add(LSTM(50))\n",
    "model.add(Dense(1))"
   ]
  },
  {
   "cell_type": "code",
   "execution_count": 36,
   "metadata": {
    "ExecuteTime": {
     "end_time": "2022-05-08T10:22:42.567653Z",
     "start_time": "2022-05-08T10:22:42.535955Z"
    }
   },
   "outputs": [
    {
     "name": "stdout",
     "output_type": "stream",
     "text": [
      "Model: \"sequential\"\n",
      "_________________________________________________________________\n",
      " Layer (type)                Output Shape              Param #   \n",
      "=================================================================\n",
      " lstm (LSTM)                 (None, 100, 50)           10400     \n",
      "                                                                 \n",
      " lstm_1 (LSTM)               (None, 100, 50)           20200     \n",
      "                                                                 \n",
      " lstm_2 (LSTM)               (None, 50)                20200     \n",
      "                                                                 \n",
      " dense (Dense)               (None, 1)                 51        \n",
      "                                                                 \n",
      "=================================================================\n",
      "Total params: 50,851\n",
      "Trainable params: 50,851\n",
      "Non-trainable params: 0\n",
      "_________________________________________________________________\n"
     ]
    }
   ],
   "source": [
    "model.summary()"
   ]
  },
  {
   "cell_type": "code",
   "execution_count": 37,
   "metadata": {
    "ExecuteTime": {
     "end_time": "2022-05-08T10:22:42.583654Z",
     "start_time": "2022-05-08T10:22:42.569652Z"
    }
   },
   "outputs": [
    {
     "data": {
      "text/plain": [
       "array([[[0.33807358],\n",
       "        [0.32401819],\n",
       "        [0.31004547],\n",
       "        ...,\n",
       "        [0.30318313],\n",
       "        [0.28094254],\n",
       "        [0.28912774]],\n",
       "\n",
       "       [[0.32401819],\n",
       "        [0.31004547],\n",
       "        [0.30632493],\n",
       "        ...,\n",
       "        [0.28094254],\n",
       "        [0.28912774],\n",
       "        [0.32616784]],\n",
       "\n",
       "       [[0.31004547],\n",
       "        [0.30632493],\n",
       "        [0.28259611],\n",
       "        ...,\n",
       "        [0.28912774],\n",
       "        [0.32616784],\n",
       "        [0.33352625]],\n",
       "\n",
       "       ...,\n",
       "\n",
       "       [[0.30318313],\n",
       "        [0.28094254],\n",
       "        [0.28912774],\n",
       "        ...,\n",
       "        [0.18015709],\n",
       "        [0.17924762],\n",
       "        [0.17759405]],\n",
       "\n",
       "       [[0.28094254],\n",
       "        [0.28912774],\n",
       "        [0.32616784],\n",
       "        ...,\n",
       "        [0.17924762],\n",
       "        [0.17759405],\n",
       "        [0.17651922]],\n",
       "\n",
       "       [[0.28912774],\n",
       "        [0.32616784],\n",
       "        [0.33352625],\n",
       "        ...,\n",
       "        [0.17759405],\n",
       "        [0.17651922],\n",
       "        [0.16651509]]])"
      ]
     },
     "execution_count": 37,
     "metadata": {},
     "output_type": "execute_result"
    }
   ],
   "source": [
    "X_train[:100]"
   ]
  },
  {
   "cell_type": "markdown",
   "metadata": {},
   "source": [
    "### Model fitting"
   ]
  },
  {
   "cell_type": "code",
   "execution_count": 38,
   "metadata": {
    "ExecuteTime": {
     "end_time": "2022-05-08T10:37:50.720580Z",
     "start_time": "2022-05-08T10:22:42.585655Z"
    }
   },
   "outputs": [
    {
     "name": "stdout",
     "output_type": "stream",
     "text": [
      "Epoch 1/100\n",
      "41/41 [==============================] - 12s 184ms/step - loss: 0.0022 - val_loss: 0.0030\n",
      "Epoch 2/100\n",
      "41/41 [==============================] - 7s 167ms/step - loss: 4.6962e-04 - val_loss: 0.0019\n",
      "Epoch 3/100\n",
      "41/41 [==============================] - 6s 157ms/step - loss: 4.0201e-04 - val_loss: 0.0014\n",
      "Epoch 4/100\n",
      "41/41 [==============================] - 6s 146ms/step - loss: 3.3160e-04 - val_loss: 0.0025\n",
      "Epoch 5/100\n",
      "41/41 [==============================] - 6s 145ms/step - loss: 3.0334e-04 - val_loss: 0.0022\n",
      "Epoch 6/100\n",
      "41/41 [==============================] - 6s 150ms/step - loss: 2.8781e-04 - val_loss: 0.0017\n",
      "Epoch 7/100\n",
      "41/41 [==============================] - 6s 147ms/step - loss: 2.5791e-04 - val_loss: 0.0013\n",
      "Epoch 8/100\n",
      "41/41 [==============================] - 6s 155ms/step - loss: 2.5209e-04 - val_loss: 0.0028\n",
      "Epoch 9/100\n",
      "41/41 [==============================] - 7s 167ms/step - loss: 2.6225e-04 - val_loss: 0.0011\n",
      "Epoch 10/100\n",
      "41/41 [==============================] - 7s 174ms/step - loss: 2.3535e-04 - val_loss: 9.6879e-04\n",
      "Epoch 11/100\n",
      "41/41 [==============================] - 8s 189ms/step - loss: 2.2683e-04 - val_loss: 0.0018\n",
      "Epoch 12/100\n",
      "41/41 [==============================] - 8s 189ms/step - loss: 2.1815e-04 - val_loss: 9.1114e-04\n",
      "Epoch 13/100\n",
      "41/41 [==============================] - 8s 196ms/step - loss: 2.1981e-04 - val_loss: 0.0019\n",
      "Epoch 14/100\n",
      "41/41 [==============================] - 8s 190ms/step - loss: 2.1094e-04 - val_loss: 6.9766e-04\n",
      "Epoch 15/100\n",
      "41/41 [==============================] - 8s 200ms/step - loss: 1.9432e-04 - val_loss: 0.0016\n",
      "Epoch 16/100\n",
      "41/41 [==============================] - 8s 199ms/step - loss: 2.0224e-04 - val_loss: 0.0021\n",
      "Epoch 17/100\n",
      "41/41 [==============================] - 8s 204ms/step - loss: 2.1070e-04 - val_loss: 8.8705e-04\n",
      "Epoch 18/100\n",
      "41/41 [==============================] - 8s 195ms/step - loss: 1.7257e-04 - val_loss: 0.0014\n",
      "Epoch 19/100\n",
      "41/41 [==============================] - 8s 202ms/step - loss: 1.7681e-04 - val_loss: 0.0020\n",
      "Epoch 20/100\n",
      "41/41 [==============================] - 8s 200ms/step - loss: 1.5235e-04 - val_loss: 0.0015\n",
      "Epoch 21/100\n",
      "41/41 [==============================] - 9s 227ms/step - loss: 1.6044e-04 - val_loss: 0.0015\n",
      "Epoch 22/100\n",
      "41/41 [==============================] - 10s 251ms/step - loss: 1.4782e-04 - val_loss: 8.4353e-04\n",
      "Epoch 23/100\n",
      "41/41 [==============================] - 8s 194ms/step - loss: 1.3407e-04 - val_loss: 9.2819e-04\n",
      "Epoch 24/100\n",
      "41/41 [==============================] - 8s 208ms/step - loss: 1.3532e-04 - val_loss: 7.5250e-04\n",
      "Epoch 25/100\n",
      "41/41 [==============================] - 8s 203ms/step - loss: 1.2350e-04 - val_loss: 0.0016\n",
      "Epoch 26/100\n",
      "41/41 [==============================] - 9s 209ms/step - loss: 1.1902e-04 - val_loss: 8.5175e-04\n",
      "Epoch 27/100\n",
      "41/41 [==============================] - 9s 209ms/step - loss: 1.0969e-04 - val_loss: 4.5101e-04\n",
      "Epoch 28/100\n",
      "41/41 [==============================] - 9s 215ms/step - loss: 1.0970e-04 - val_loss: 7.6700e-04\n",
      "Epoch 29/100\n",
      "41/41 [==============================] - 8s 195ms/step - loss: 1.0866e-04 - val_loss: 4.2481e-04\n",
      "Epoch 30/100\n",
      "41/41 [==============================] - 8s 201ms/step - loss: 1.0718e-04 - val_loss: 3.5838e-04\n",
      "Epoch 31/100\n",
      "41/41 [==============================] - 8s 191ms/step - loss: 1.0228e-04 - val_loss: 4.5586e-04\n",
      "Epoch 32/100\n",
      "41/41 [==============================] - 8s 202ms/step - loss: 1.0075e-04 - val_loss: 7.5759e-04\n",
      "Epoch 33/100\n",
      "41/41 [==============================] - 8s 191ms/step - loss: 9.8975e-05 - val_loss: 4.9032e-04\n",
      "Epoch 34/100\n",
      "41/41 [==============================] - 8s 200ms/step - loss: 9.5395e-05 - val_loss: 8.4261e-04\n",
      "Epoch 35/100\n",
      "41/41 [==============================] - 8s 195ms/step - loss: 8.9677e-05 - val_loss: 6.6459e-04\n",
      "Epoch 36/100\n",
      "41/41 [==============================] - 9s 212ms/step - loss: 9.2916e-05 - val_loss: 3.4398e-04\n",
      "Epoch 37/100\n",
      "41/41 [==============================] - 8s 195ms/step - loss: 9.1708e-05 - val_loss: 4.8840e-04\n",
      "Epoch 38/100\n",
      "41/41 [==============================] - 10s 249ms/step - loss: 9.4041e-05 - val_loss: 3.7961e-04\n",
      "Epoch 39/100\n",
      "41/41 [==============================] - 9s 212ms/step - loss: 8.2876e-05 - val_loss: 0.0010\n",
      "Epoch 40/100\n",
      "41/41 [==============================] - 8s 201ms/step - loss: 8.7553e-05 - val_loss: 3.1312e-04\n",
      "Epoch 41/100\n",
      "41/41 [==============================] - 8s 195ms/step - loss: 8.6539e-05 - val_loss: 3.0580e-04\n",
      "Epoch 42/100\n",
      "41/41 [==============================] - 8s 205ms/step - loss: 7.8764e-05 - val_loss: 3.3895e-04\n",
      "Epoch 43/100\n",
      "41/41 [==============================] - 8s 206ms/step - loss: 7.6243e-05 - val_loss: 5.2418e-04\n",
      "Epoch 44/100\n",
      "41/41 [==============================] - 8s 198ms/step - loss: 7.4936e-05 - val_loss: 4.2133e-04\n",
      "Epoch 45/100\n",
      "41/41 [==============================] - 11s 266ms/step - loss: 7.4102e-05 - val_loss: 3.8397e-04\n",
      "Epoch 46/100\n",
      "41/41 [==============================] - 13s 326ms/step - loss: 7.9640e-05 - val_loss: 3.7683e-04\n",
      "Epoch 47/100\n",
      "41/41 [==============================] - 14s 353ms/step - loss: 7.3582e-05 - val_loss: 3.3248e-04\n",
      "Epoch 48/100\n",
      "41/41 [==============================] - 15s 376ms/step - loss: 7.3048e-05 - val_loss: 6.2060e-04\n",
      "Epoch 49/100\n",
      "41/41 [==============================] - 12s 291ms/step - loss: 7.1551e-05 - val_loss: 3.8991e-04\n",
      "Epoch 50/100\n",
      "41/41 [==============================] - 12s 285ms/step - loss: 7.3814e-05 - val_loss: 5.2338e-04\n",
      "Epoch 51/100\n",
      "41/41 [==============================] - 11s 270ms/step - loss: 8.0191e-05 - val_loss: 5.1286e-04\n",
      "Epoch 52/100\n",
      "41/41 [==============================] - 11s 279ms/step - loss: 7.1617e-05 - val_loss: 8.2451e-04\n",
      "Epoch 53/100\n",
      "41/41 [==============================] - 12s 286ms/step - loss: 7.0438e-05 - val_loss: 5.8913e-04\n",
      "Epoch 54/100\n",
      "41/41 [==============================] - 12s 289ms/step - loss: 7.2366e-05 - val_loss: 6.7126e-04\n",
      "Epoch 55/100\n",
      "41/41 [==============================] - 14s 340ms/step - loss: 7.5101e-05 - val_loss: 5.3131e-04\n",
      "Epoch 56/100\n",
      "41/41 [==============================] - 10s 244ms/step - loss: 9.1760e-05 - val_loss: 6.6159e-04\n",
      "Epoch 57/100\n",
      "41/41 [==============================] - 10s 256ms/step - loss: 7.4534e-05 - val_loss: 4.9054e-04\n",
      "Epoch 58/100\n",
      "41/41 [==============================] - 10s 241ms/step - loss: 7.0327e-05 - val_loss: 7.4935e-04\n",
      "Epoch 59/100\n",
      "41/41 [==============================] - 10s 235ms/step - loss: 7.5103e-05 - val_loss: 8.3589e-04\n",
      "Epoch 60/100\n",
      "41/41 [==============================] - 11s 258ms/step - loss: 7.3855e-05 - val_loss: 5.8762e-04\n",
      "Epoch 61/100\n",
      "41/41 [==============================] - 10s 237ms/step - loss: 7.2475e-05 - val_loss: 6.4300e-04\n",
      "Epoch 62/100\n",
      "41/41 [==============================] - 8s 205ms/step - loss: 7.1184e-05 - val_loss: 6.6490e-04\n",
      "Epoch 63/100\n",
      "41/41 [==============================] - 8s 207ms/step - loss: 7.0694e-05 - val_loss: 6.1912e-04\n",
      "Epoch 64/100\n",
      "41/41 [==============================] - 8s 204ms/step - loss: 6.8714e-05 - val_loss: 6.1697e-04\n",
      "Epoch 65/100\n",
      "41/41 [==============================] - 8s 188ms/step - loss: 7.1448e-05 - val_loss: 7.1054e-04\n",
      "Epoch 66/100\n",
      "41/41 [==============================] - 9s 230ms/step - loss: 7.0097e-05 - val_loss: 6.5142e-04\n",
      "Epoch 67/100\n",
      "41/41 [==============================] - 8s 205ms/step - loss: 7.7444e-05 - val_loss: 7.5883e-04\n",
      "Epoch 68/100\n",
      "41/41 [==============================] - 9s 215ms/step - loss: 6.8989e-05 - val_loss: 5.0469e-04\n",
      "Epoch 69/100\n",
      "41/41 [==============================] - 9s 208ms/step - loss: 7.5769e-05 - val_loss: 4.8535e-04\n",
      "Epoch 70/100\n",
      "41/41 [==============================] - 8s 196ms/step - loss: 6.9786e-05 - val_loss: 7.2311e-04\n",
      "Epoch 71/100\n",
      "41/41 [==============================] - 8s 199ms/step - loss: 6.9466e-05 - val_loss: 5.8649e-04\n",
      "Epoch 72/100\n",
      "41/41 [==============================] - 8s 194ms/step - loss: 7.6691e-05 - val_loss: 6.6165e-04\n",
      "Epoch 73/100\n",
      "41/41 [==============================] - 9s 209ms/step - loss: 8.0984e-05 - val_loss: 0.0012\n",
      "Epoch 74/100\n",
      "41/41 [==============================] - 8s 190ms/step - loss: 7.1934e-05 - val_loss: 5.6066e-04\n",
      "Epoch 75/100\n",
      "41/41 [==============================] - 9s 217ms/step - loss: 7.7931e-05 - val_loss: 6.4358e-04\n",
      "Epoch 76/100\n"
     ]
    },
    {
     "name": "stdout",
     "output_type": "stream",
     "text": [
      "41/41 [==============================] - 8s 185ms/step - loss: 7.4420e-05 - val_loss: 9.1975e-04\n",
      "Epoch 77/100\n",
      "41/41 [==============================] - 8s 203ms/step - loss: 7.0919e-05 - val_loss: 0.0010\n",
      "Epoch 78/100\n",
      "41/41 [==============================] - 9s 219ms/step - loss: 7.7508e-05 - val_loss: 7.0128e-04\n",
      "Epoch 79/100\n",
      "41/41 [==============================] - 9s 227ms/step - loss: 7.2973e-05 - val_loss: 5.2382e-04\n",
      "Epoch 80/100\n",
      "41/41 [==============================] - 9s 229ms/step - loss: 6.9223e-05 - val_loss: 7.4613e-04\n",
      "Epoch 81/100\n",
      "41/41 [==============================] - 10s 254ms/step - loss: 7.2986e-05 - val_loss: 6.1129e-04\n",
      "Epoch 82/100\n",
      "41/41 [==============================] - 11s 262ms/step - loss: 7.2469e-05 - val_loss: 6.9397e-04\n",
      "Epoch 83/100\n",
      "41/41 [==============================] - 10s 257ms/step - loss: 6.9056e-05 - val_loss: 8.4363e-04\n",
      "Epoch 84/100\n",
      "41/41 [==============================] - 10s 255ms/step - loss: 6.9088e-05 - val_loss: 6.7882e-04\n",
      "Epoch 85/100\n",
      "41/41 [==============================] - 12s 291ms/step - loss: 7.2192e-05 - val_loss: 7.6475e-04\n",
      "Epoch 86/100\n",
      "41/41 [==============================] - 11s 258ms/step - loss: 7.3279e-05 - val_loss: 6.6854e-04\n",
      "Epoch 87/100\n",
      "41/41 [==============================] - 11s 263ms/step - loss: 7.6311e-05 - val_loss: 0.0012\n",
      "Epoch 88/100\n",
      "41/41 [==============================] - 13s 319ms/step - loss: 6.9822e-05 - val_loss: 0.0013\n",
      "Epoch 89/100\n",
      "41/41 [==============================] - 13s 314ms/step - loss: 6.9469e-05 - val_loss: 6.6487e-04\n",
      "Epoch 90/100\n",
      "41/41 [==============================] - 9s 215ms/step - loss: 7.2910e-05 - val_loss: 7.2949e-04\n",
      "Epoch 91/100\n",
      "41/41 [==============================] - 9s 227ms/step - loss: 6.7424e-05 - val_loss: 0.0011\n",
      "Epoch 92/100\n",
      "41/41 [==============================] - 8s 201ms/step - loss: 6.9169e-05 - val_loss: 8.1804e-04\n",
      "Epoch 93/100\n",
      "41/41 [==============================] - 9s 214ms/step - loss: 6.9490e-05 - val_loss: 0.0011\n",
      "Epoch 94/100\n",
      "41/41 [==============================] - 8s 201ms/step - loss: 7.5558e-05 - val_loss: 7.2648e-04\n",
      "Epoch 95/100\n",
      "41/41 [==============================] - 9s 222ms/step - loss: 7.4226e-05 - val_loss: 0.0011\n",
      "Epoch 96/100\n",
      "41/41 [==============================] - 8s 200ms/step - loss: 7.2540e-05 - val_loss: 0.0016\n",
      "Epoch 97/100\n",
      "41/41 [==============================] - 9s 228ms/step - loss: 7.5434e-05 - val_loss: 7.7353e-04\n",
      "Epoch 98/100\n",
      "41/41 [==============================] - 9s 222ms/step - loss: 7.1203e-05 - val_loss: 9.0981e-04\n",
      "Epoch 99/100\n",
      "41/41 [==============================] - 8s 200ms/step - loss: 6.7123e-05 - val_loss: 7.5978e-04\n",
      "Epoch 100/100\n",
      "41/41 [==============================] - 9s 208ms/step - loss: 7.4777e-05 - val_loss: 7.2154e-04\n"
     ]
    },
    {
     "data": {
      "text/plain": [
       "<keras.callbacks.History at 0x22caa454e80>"
      ]
     },
     "execution_count": 38,
     "metadata": {},
     "output_type": "execute_result"
    }
   ],
   "source": [
    "model.compile(loss='mean_squared_error',optimizer='adam')\n",
    "model.fit(X_train,y_train,validation_data=(X_test,y_test),epochs=100,batch_size=65,verbose=1)"
   ]
  },
  {
   "cell_type": "markdown",
   "metadata": {},
   "source": [
    "## Make Prediction "
   ]
  },
  {
   "cell_type": "code",
   "execution_count": 39,
   "metadata": {
    "ExecuteTime": {
     "end_time": "2022-05-08T10:37:50.751840Z",
     "start_time": "2022-05-08T10:37:50.720580Z"
    }
   },
   "outputs": [],
   "source": [
    "import tensorflow as tf"
   ]
  },
  {
   "cell_type": "code",
   "execution_count": 40,
   "metadata": {
    "ExecuteTime": {
     "end_time": "2022-05-08T10:37:56.323270Z",
     "start_time": "2022-05-08T10:37:50.751840Z"
    }
   },
   "outputs": [],
   "source": [
    "### Lets Do the prediction and checking performance metrics\n",
    "train_predict = model.predict(X_train)\n",
    "test_predict = model.predict(X_test)"
   ]
  },
  {
   "cell_type": "code",
   "execution_count": 41,
   "metadata": {
    "ExecuteTime": {
     "end_time": "2022-05-08T10:37:56.338898Z",
     "start_time": "2022-05-08T10:37:56.323270Z"
    }
   },
   "outputs": [],
   "source": [
    "### Transformback to original form\n",
    "train_predict = scaler.inverse_transform(train_predict)\n",
    "test_predict = scaler.inverse_transform(test_predict)"
   ]
  },
  {
   "cell_type": "code",
   "execution_count": 42,
   "metadata": {
    "ExecuteTime": {
     "end_time": "2022-05-08T10:37:56.417432Z",
     "start_time": "2022-05-08T10:37:56.338898Z"
    }
   },
   "outputs": [
    {
     "data": {
      "text/plain": [
       "3.0269903256149004"
      ]
     },
     "execution_count": 42,
     "metadata": {},
     "output_type": "execute_result"
    }
   ],
   "source": [
    "### Calculate RMSE performance metrics\n",
    "import math\n",
    "from sklearn.metrics import mean_squared_error\n",
    "math.sqrt(mean_squared_error(y_train,train_predict))"
   ]
  },
  {
   "cell_type": "code",
   "execution_count": 43,
   "metadata": {
    "ExecuteTime": {
     "end_time": "2022-05-08T10:37:56.433064Z",
     "start_time": "2022-05-08T10:37:56.417432Z"
    }
   },
   "outputs": [
    {
     "data": {
      "text/plain": [
       "5.799639410196947"
      ]
     },
     "execution_count": 43,
     "metadata": {},
     "output_type": "execute_result"
    }
   ],
   "source": [
    "### Test Data RMSE\n",
    "math.sqrt(mean_squared_error(y_test,test_predict))"
   ]
  },
  {
   "cell_type": "code",
   "execution_count": 44,
   "metadata": {
    "ExecuteTime": {
     "end_time": "2022-05-08T10:37:56.700216Z",
     "start_time": "2022-05-08T10:37:56.433064Z"
    }
   },
   "outputs": [
    {
     "data": {
      "image/png": "[encoded data removed]",
      "text/plain": [
       "<Figure size 864x432 with 1 Axes>"
      ]
     },
     "metadata": {
      "needs_background": "light"
     },
     "output_type": "display_data"
    }
   ],
   "source": [
    "#ploting \n",
    "#shift train prediction for ploting\n",
    "look_back = 100\n",
    "trainpredictplot = np.empty_like(tsd1)\n",
    "trainpredictplot[:,:] = np.nan\n",
    "trainpredictplot[look_back:len(train_predict)+look_back,:] = train_predict\n",
    "\n",
    "#shift test prediction for ploting\n",
    "testpredictionplot = np.empty_like(tsd1)\n",
    "testpredictionplot[:,:] = np.nan\n",
    "testpredictionplot[len(train_predict)+(look_back*2)+1:len(tsd1)-1,:] = test_predict\n",
    "\n",
    "#plot besline and predict\n",
    "plt.figure(figsize=(12,6))\n",
    "plt.plot(scaler.inverse_transform(tsd1))\n",
    "plt.plot(trainpredictplot)\n",
    "plt.plot(testpredictionplot)\n",
    "plt.show()"
   ]
  },
  {
   "cell_type": "code",
   "execution_count": 45,
   "metadata": {
    "ExecuteTime": {
     "end_time": "2022-05-08T10:37:56.716235Z",
     "start_time": "2022-05-08T10:37:56.702223Z"
    }
   },
   "outputs": [
    {
     "data": {
      "text/plain": [
       "1170"
      ]
     },
     "execution_count": 45,
     "metadata": {},
     "output_type": "execute_result"
    }
   ],
   "source": [
    "len(test_data)"
   ]
  },
  {
   "cell_type": "code",
   "execution_count": 46,
   "metadata": {
    "ExecuteTime": {
     "end_time": "2022-05-08T10:37:56.731869Z",
     "start_time": "2022-05-08T10:37:56.716235Z"
    }
   },
   "outputs": [
    {
     "data": {
      "text/plain": [
       "(1, 100)"
      ]
     },
     "execution_count": 46,
     "metadata": {},
     "output_type": "execute_result"
    }
   ],
   "source": [
    "x_input = test_data[1070:].reshape(1,-1)\n",
    "x_input.shape"
   ]
  },
  {
   "cell_type": "code",
   "execution_count": 47,
   "metadata": {
    "ExecuteTime": {
     "end_time": "2022-05-08T10:37:56.747500Z",
     "start_time": "2022-05-08T10:37:56.731869Z"
    }
   },
   "outputs": [
    {
     "data": {
      "text/plain": [
       "[0.4104175279040926,\n",
       " 0.43191401405539476,\n",
       " 0.41719718892104174,\n",
       " 0.3989251756924349,\n",
       " 0.40463001240181895,\n",
       " 0.42827614716825135,\n",
       " 0.41463414634146345,\n",
       " 0.42315006200909466,\n",
       " 0.4313352625051674,\n",
       " 0.4074410913600661,\n",
       " 0.4102521703183133,\n",
       " 0.42463828028110784,\n",
       " 0.43588259611409663,\n",
       " 0.43670938404299287,\n",
       " 0.4374534931789995,\n",
       " 0.427697395618024,\n",
       " 0.4503513848697809,\n",
       " 0.44605208763952053,\n",
       " 0.4512608515915668,\n",
       " 0.46696982224059524,\n",
       " 0.4849937990905332,\n",
       " 0.4885489871847871,\n",
       " 0.49913187267465897,\n",
       " 0.5132699462587846,\n",
       " 0.5321207110376187,\n",
       " 0.5230260438197601,\n",
       " 0.5064902852418354,\n",
       " 0.5126085159156676,\n",
       " 0.5064902852418354,\n",
       " 0.5110376188507647,\n",
       " 0.5244315832988838,\n",
       " 0.5455146754857378,\n",
       " 0.544191814799504,\n",
       " 0.5546920214964862,\n",
       " 0.5288135593220338,\n",
       " 0.5335262505167424,\n",
       " 0.5340223232740802,\n",
       " 0.5050847457627119,\n",
       " 0.5091360066143034,\n",
       " 0.512525837122778,\n",
       " 0.5188094253823894,\n",
       " 0.5224472922695329,\n",
       " 0.5317073170731706,\n",
       " 0.534270359652749,\n",
       " 0.5451012815212897,\n",
       " 0.5298057048367093,\n",
       " 0.5276560562215792,\n",
       " 0.5349317899958661,\n",
       " 0.530549813972716,\n",
       " 0.5162463828028111,\n",
       " 0.5157503100454733,\n",
       " 0.5088879702356346,\n",
       " 0.5206283588259611,\n",
       " 0.5337742868954113,\n",
       " 0.5345183960314179,\n",
       " 0.5165770979743696,\n",
       " 0.515584952459694,\n",
       " 0.5275733774286895,\n",
       " 0.5249276560562216,\n",
       " 0.49822240595287304,\n",
       " 0.5131872674658949,\n",
       " 0.5056634973129392,\n",
       " 0.5026870607689128,\n",
       " 0.4877221992558909,\n",
       " 0.49689954526663915,\n",
       " 0.4973129392310872,\n",
       " 0.4907813145928068,\n",
       " 0.5000413393964448,\n",
       " 0.5224472922695329,\n",
       " 0.5326167837949565,\n",
       " 0.5269119470855725,\n",
       " 0.5280694501860272,\n",
       " 0.5013642000826788,\n",
       " 0.5064076064489459,\n",
       " 0.4988011575031004,\n",
       " 0.4914427449359239,\n",
       " 0.5116990491938818,\n",
       " 0.5165770979743696,\n",
       " 0.5065729640347251,\n",
       " 0.5023563455973542,\n",
       " 0.49780901198842487,\n",
       " 0.4772219925589086,\n",
       " 0.47846217445225303,\n",
       " 0.4826787928896238,\n",
       " 0.46945018602728394,\n",
       " 0.448780487804878,\n",
       " 0.4435717238528317,\n",
       " 0.4499379909053327,\n",
       " 0.4528317486564696,\n",
       " 0.46308391897478285,\n",
       " 0.44729226953286483,\n",
       " 0.4489458453906573,\n",
       " 0.46308391897478285,\n",
       " 0.4759818106655642,\n",
       " 0.4864820173625465,\n",
       " 0.4952459694088467,\n",
       " 0.4772219925589086,\n",
       " 0.4763125258371227,\n",
       " 0.4800330715171558,\n",
       " 0.4810252170318313]"
      ]
     },
     "execution_count": 47,
     "metadata": {},
     "output_type": "execute_result"
    }
   ],
   "source": [
    "temp_input = list(x_input)\n",
    "temp_input = temp_input[0].tolist()\n",
    "temp_input"
   ]
  },
  {
   "cell_type": "markdown",
   "metadata": {},
   "source": [
    "### Prediction for the next 30 days"
   ]
  },
  {
   "cell_type": "code",
   "execution_count": 48,
   "metadata": {
    "ExecuteTime": {
     "end_time": "2022-05-08T10:37:59.061656Z",
     "start_time": "2022-05-08T10:37:56.747500Z"
    },
    "scrolled": true
   },
   "outputs": [
    {
     "name": "stdout",
     "output_type": "stream",
     "text": [
      "[0.47372425]\n",
      "101\n",
      "1 day input [0.43191401 0.41719719 0.39892518 0.40463001 0.42827615 0.41463415\n",
      " 0.42315006 0.43133526 0.40744109 0.41025217 0.42463828 0.4358826\n",
      " 0.43670938 0.43745349 0.4276974  0.45035138 0.44605209 0.45126085\n",
      " 0.46696982 0.4849938  0.48854899 0.49913187 0.51326995 0.53212071\n",
      " 0.52302604 0.50649029 0.51260852 0.50649029 0.51103762 0.52443158\n",
      " 0.54551468 0.54419181 0.55469202 0.52881356 0.53352625 0.53402232\n",
      " 0.50508475 0.50913601 0.51252584 0.51880943 0.52244729 0.53170732\n",
      " 0.53427036 0.54510128 0.5298057  0.52765606 0.53493179 0.53054981\n",
      " 0.51624638 0.51575031 0.50888797 0.52062836 0.53377429 0.5345184\n",
      " 0.5165771  0.51558495 0.52757338 0.52492766 0.49822241 0.51318727\n",
      " 0.5056635  0.50268706 0.4877222  0.49689955 0.49731294 0.49078131\n",
      " 0.50004134 0.52244729 0.53261678 0.52691195 0.52806945 0.5013642\n",
      " 0.50640761 0.49880116 0.49144274 0.51169905 0.5165771  0.50657296\n",
      " 0.50235635 0.49780901 0.47722199 0.47846217 0.48267879 0.46945019\n",
      " 0.44878049 0.44357172 0.44993799 0.45283175 0.46308392 0.44729227\n",
      " 0.44894585 0.46308392 0.47598181 0.48648202 0.49524597 0.47722199\n",
      " 0.47631253 0.48003307 0.48102522 0.47372425]\n",
      "1 day input [[0.46639875]]\n",
      "2 day input [0.41719719 0.39892518 0.40463001 0.42827615 0.41463415 0.42315006\n",
      " 0.43133526 0.40744109 0.41025217 0.42463828 0.4358826  0.43670938\n",
      " 0.43745349 0.4276974  0.45035138 0.44605209 0.45126085 0.46696982\n",
      " 0.4849938  0.48854899 0.49913187 0.51326995 0.53212071 0.52302604\n",
      " 0.50649029 0.51260852 0.50649029 0.51103762 0.52443158 0.54551468\n",
      " 0.54419181 0.55469202 0.52881356 0.53352625 0.53402232 0.50508475\n",
      " 0.50913601 0.51252584 0.51880943 0.52244729 0.53170732 0.53427036\n",
      " 0.54510128 0.5298057  0.52765606 0.53493179 0.53054981 0.51624638\n",
      " 0.51575031 0.50888797 0.52062836 0.53377429 0.5345184  0.5165771\n",
      " 0.51558495 0.52757338 0.52492766 0.49822241 0.51318727 0.5056635\n",
      " 0.50268706 0.4877222  0.49689955 0.49731294 0.49078131 0.50004134\n",
      " 0.52244729 0.53261678 0.52691195 0.52806945 0.5013642  0.50640761\n",
      " 0.49880116 0.49144274 0.51169905 0.5165771  0.50657296 0.50235635\n",
      " 0.49780901 0.47722199 0.47846217 0.48267879 0.46945019 0.44878049\n",
      " 0.44357172 0.44993799 0.45283175 0.46308392 0.44729227 0.44894585\n",
      " 0.46308392 0.47598181 0.48648202 0.49524597 0.47722199 0.47631253\n",
      " 0.48003307 0.48102522 0.47372425 0.46639875]\n",
      "2 day input [[0.46105123]]\n",
      "3 day input [0.39892518 0.40463001 0.42827615 0.41463415 0.42315006 0.43133526\n",
      " 0.40744109 0.41025217 0.42463828 0.4358826  0.43670938 0.43745349\n",
      " 0.4276974  0.45035138 0.44605209 0.45126085 0.46696982 0.4849938\n",
      " 0.48854899 0.49913187 0.51326995 0.53212071 0.52302604 0.50649029\n",
      " 0.51260852 0.50649029 0.51103762 0.52443158 0.54551468 0.54419181\n",
      " 0.55469202 0.52881356 0.53352625 0.53402232 0.50508475 0.50913601\n",
      " 0.51252584 0.51880943 0.52244729 0.53170732 0.53427036 0.54510128\n",
      " 0.5298057  0.52765606 0.53493179 0.53054981 0.51624638 0.51575031\n",
      " 0.50888797 0.52062836 0.53377429 0.5345184  0.5165771  0.51558495\n",
      " 0.52757338 0.52492766 0.49822241 0.51318727 0.5056635  0.50268706\n",
      " 0.4877222  0.49689955 0.49731294 0.49078131 0.50004134 0.52244729\n",
      " 0.53261678 0.52691195 0.52806945 0.5013642  0.50640761 0.49880116\n",
      " 0.49144274 0.51169905 0.5165771  0.50657296 0.50235635 0.49780901\n",
      " 0.47722199 0.47846217 0.48267879 0.46945019 0.44878049 0.44357172\n",
      " 0.44993799 0.45283175 0.46308392 0.44729227 0.44894585 0.46308392\n",
      " 0.47598181 0.48648202 0.49524597 0.47722199 0.47631253 0.48003307\n",
      " 0.48102522 0.47372425 0.46639875 0.46105123]\n",
      "3 day input [[0.45708174]]\n",
      "4 day input [0.40463001 0.42827615 0.41463415 0.42315006 0.43133526 0.40744109\n",
      " 0.41025217 0.42463828 0.4358826  0.43670938 0.43745349 0.4276974\n",
      " 0.45035138 0.44605209 0.45126085 0.46696982 0.4849938  0.48854899\n",
      " 0.49913187 0.51326995 0.53212071 0.52302604 0.50649029 0.51260852\n",
      " 0.50649029 0.51103762 0.52443158 0.54551468 0.54419181 0.55469202\n",
      " 0.52881356 0.53352625 0.53402232 0.50508475 0.50913601 0.51252584\n",
      " 0.51880943 0.52244729 0.53170732 0.53427036 0.54510128 0.5298057\n",
      " 0.52765606 0.53493179 0.53054981 0.51624638 0.51575031 0.50888797\n",
      " 0.52062836 0.53377429 0.5345184  0.5165771  0.51558495 0.52757338\n",
      " 0.52492766 0.49822241 0.51318727 0.5056635  0.50268706 0.4877222\n",
      " 0.49689955 0.49731294 0.49078131 0.50004134 0.52244729 0.53261678\n",
      " 0.52691195 0.52806945 0.5013642  0.50640761 0.49880116 0.49144274\n",
      " 0.51169905 0.5165771  0.50657296 0.50235635 0.49780901 0.47722199\n",
      " 0.47846217 0.48267879 0.46945019 0.44878049 0.44357172 0.44993799\n",
      " 0.45283175 0.46308392 0.44729227 0.44894585 0.46308392 0.47598181\n",
      " 0.48648202 0.49524597 0.47722199 0.47631253 0.48003307 0.48102522\n",
      " 0.47372425 0.46639875 0.46105123 0.45708174]\n",
      "4 day input [[0.45416304]]\n",
      "5 day input [0.42827615 0.41463415 0.42315006 0.43133526 0.40744109 0.41025217\n",
      " 0.42463828 0.4358826  0.43670938 0.43745349 0.4276974  0.45035138\n",
      " 0.44605209 0.45126085 0.46696982 0.4849938  0.48854899 0.49913187\n",
      " 0.51326995 0.53212071 0.52302604 0.50649029 0.51260852 0.50649029\n",
      " 0.51103762 0.52443158 0.54551468 0.54419181 0.55469202 0.52881356\n",
      " 0.53352625 0.53402232 0.50508475 0.50913601 0.51252584 0.51880943\n",
      " 0.52244729 0.53170732 0.53427036 0.54510128 0.5298057  0.52765606\n",
      " 0.53493179 0.53054981 0.51624638 0.51575031 0.50888797 0.52062836\n",
      " 0.53377429 0.5345184  0.5165771  0.51558495 0.52757338 0.52492766\n",
      " 0.49822241 0.51318727 0.5056635  0.50268706 0.4877222  0.49689955\n",
      " 0.49731294 0.49078131 0.50004134 0.52244729 0.53261678 0.52691195\n",
      " 0.52806945 0.5013642  0.50640761 0.49880116 0.49144274 0.51169905\n",
      " 0.5165771  0.50657296 0.50235635 0.49780901 0.47722199 0.47846217\n",
      " 0.48267879 0.46945019 0.44878049 0.44357172 0.44993799 0.45283175\n",
      " 0.46308392 0.44729227 0.44894585 0.46308392 0.47598181 0.48648202\n",
      " 0.49524597 0.47722199 0.47631253 0.48003307 0.48102522 0.47372425\n",
      " 0.46639875 0.46105123 0.45708174 0.45416304]\n",
      "5 day input [[0.45188165]]\n",
      "6 day input [0.41463415 0.42315006 0.43133526 0.40744109 0.41025217 0.42463828\n",
      " 0.4358826  0.43670938 0.43745349 0.4276974  0.45035138 0.44605209\n",
      " 0.45126085 0.46696982 0.4849938  0.48854899 0.49913187 0.51326995\n",
      " 0.53212071 0.52302604 0.50649029 0.51260852 0.50649029 0.51103762\n",
      " 0.52443158 0.54551468 0.54419181 0.55469202 0.52881356 0.53352625\n",
      " 0.53402232 0.50508475 0.50913601 0.51252584 0.51880943 0.52244729\n",
      " 0.53170732 0.53427036 0.54510128 0.5298057  0.52765606 0.53493179\n",
      " 0.53054981 0.51624638 0.51575031 0.50888797 0.52062836 0.53377429\n",
      " 0.5345184  0.5165771  0.51558495 0.52757338 0.52492766 0.49822241\n",
      " 0.51318727 0.5056635  0.50268706 0.4877222  0.49689955 0.49731294\n",
      " 0.49078131 0.50004134 0.52244729 0.53261678 0.52691195 0.52806945\n",
      " 0.5013642  0.50640761 0.49880116 0.49144274 0.51169905 0.5165771\n",
      " 0.50657296 0.50235635 0.49780901 0.47722199 0.47846217 0.48267879\n",
      " 0.46945019 0.44878049 0.44357172 0.44993799 0.45283175 0.46308392\n",
      " 0.44729227 0.44894585 0.46308392 0.47598181 0.48648202 0.49524597\n",
      " 0.47722199 0.47631253 0.48003307 0.48102522 0.47372425 0.46639875\n",
      " 0.46105123 0.45708174 0.45416304 0.45188165]\n",
      "6 day input [[0.4498929]]\n",
      "7 day input [0.42315006 0.43133526 0.40744109 0.41025217 0.42463828 0.4358826\n",
      " 0.43670938 0.43745349 0.4276974  0.45035138 0.44605209 0.45126085\n",
      " 0.46696982 0.4849938  0.48854899 0.49913187 0.51326995 0.53212071\n",
      " 0.52302604 0.50649029 0.51260852 0.50649029 0.51103762 0.52443158\n",
      " 0.54551468 0.54419181 0.55469202 0.52881356 0.53352625 0.53402232\n",
      " 0.50508475 0.50913601 0.51252584 0.51880943 0.52244729 0.53170732\n",
      " 0.53427036 0.54510128 0.5298057  0.52765606 0.53493179 0.53054981\n",
      " 0.51624638 0.51575031 0.50888797 0.52062836 0.53377429 0.5345184\n",
      " 0.5165771  0.51558495 0.52757338 0.52492766 0.49822241 0.51318727\n",
      " 0.5056635  0.50268706 0.4877222  0.49689955 0.49731294 0.49078131\n",
      " 0.50004134 0.52244729 0.53261678 0.52691195 0.52806945 0.5013642\n",
      " 0.50640761 0.49880116 0.49144274 0.51169905 0.5165771  0.50657296\n",
      " 0.50235635 0.49780901 0.47722199 0.47846217 0.48267879 0.46945019\n",
      " 0.44878049 0.44357172 0.44993799 0.45283175 0.46308392 0.44729227\n",
      " 0.44894585 0.46308392 0.47598181 0.48648202 0.49524597 0.47722199\n",
      " 0.47631253 0.48003307 0.48102522 0.47372425 0.46639875 0.46105123\n",
      " 0.45708174 0.45416304 0.45188165 0.44989291]\n",
      "7 day input [[0.4479611]]\n",
      "8 day input [0.43133526 0.40744109 0.41025217 0.42463828 0.4358826  0.43670938\n",
      " 0.43745349 0.4276974  0.45035138 0.44605209 0.45126085 0.46696982\n",
      " 0.4849938  0.48854899 0.49913187 0.51326995 0.53212071 0.52302604\n",
      " 0.50649029 0.51260852 0.50649029 0.51103762 0.52443158 0.54551468\n",
      " 0.54419181 0.55469202 0.52881356 0.53352625 0.53402232 0.50508475\n",
      " 0.50913601 0.51252584 0.51880943 0.52244729 0.53170732 0.53427036\n",
      " 0.54510128 0.5298057  0.52765606 0.53493179 0.53054981 0.51624638\n",
      " 0.51575031 0.50888797 0.52062836 0.53377429 0.5345184  0.5165771\n",
      " 0.51558495 0.52757338 0.52492766 0.49822241 0.51318727 0.5056635\n",
      " 0.50268706 0.4877222  0.49689955 0.49731294 0.49078131 0.50004134\n",
      " 0.52244729 0.53261678 0.52691195 0.52806945 0.5013642  0.50640761\n",
      " 0.49880116 0.49144274 0.51169905 0.5165771  0.50657296 0.50235635\n",
      " 0.49780901 0.47722199 0.47846217 0.48267879 0.46945019 0.44878049\n",
      " 0.44357172 0.44993799 0.45283175 0.46308392 0.44729227 0.44894585\n",
      " 0.46308392 0.47598181 0.48648202 0.49524597 0.47722199 0.47631253\n",
      " 0.48003307 0.48102522 0.47372425 0.46639875 0.46105123 0.45708174\n",
      " 0.45416304 0.45188165 0.44989291 0.44796109]\n",
      "8 day input [[0.44595543]]\n",
      "9 day input [0.40744109 0.41025217 0.42463828 0.4358826  0.43670938 0.43745349\n",
      " 0.4276974  0.45035138 0.44605209 0.45126085 0.46696982 0.4849938\n",
      " 0.48854899 0.49913187 0.51326995 0.53212071 0.52302604 0.50649029\n",
      " 0.51260852 0.50649029 0.51103762 0.52443158 0.54551468 0.54419181\n",
      " 0.55469202 0.52881356 0.53352625 0.53402232 0.50508475 0.50913601\n",
      " 0.51252584 0.51880943 0.52244729 0.53170732 0.53427036 0.54510128\n",
      " 0.5298057  0.52765606 0.53493179 0.53054981 0.51624638 0.51575031\n",
      " 0.50888797 0.52062836 0.53377429 0.5345184  0.5165771  0.51558495\n",
      " 0.52757338 0.52492766 0.49822241 0.51318727 0.5056635  0.50268706\n",
      " 0.4877222  0.49689955 0.49731294 0.49078131 0.50004134 0.52244729\n",
      " 0.53261678 0.52691195 0.52806945 0.5013642  0.50640761 0.49880116\n",
      " 0.49144274 0.51169905 0.5165771  0.50657296 0.50235635 0.49780901\n",
      " 0.47722199 0.47846217 0.48267879 0.46945019 0.44878049 0.44357172\n",
      " 0.44993799 0.45283175 0.46308392 0.44729227 0.44894585 0.46308392\n",
      " 0.47598181 0.48648202 0.49524597 0.47722199 0.47631253 0.48003307\n",
      " 0.48102522 0.47372425 0.46639875 0.46105123 0.45708174 0.45416304\n",
      " 0.45188165 0.44989291 0.44796109 0.44595543]\n"
     ]
    },
    {
     "name": "stdout",
     "output_type": "stream",
     "text": [
      "9 day input [[0.44382653]]\n",
      "10 day input [0.41025217 0.42463828 0.4358826  0.43670938 0.43745349 0.4276974\n",
      " 0.45035138 0.44605209 0.45126085 0.46696982 0.4849938  0.48854899\n",
      " 0.49913187 0.51326995 0.53212071 0.52302604 0.50649029 0.51260852\n",
      " 0.50649029 0.51103762 0.52443158 0.54551468 0.54419181 0.55469202\n",
      " 0.52881356 0.53352625 0.53402232 0.50508475 0.50913601 0.51252584\n",
      " 0.51880943 0.52244729 0.53170732 0.53427036 0.54510128 0.5298057\n",
      " 0.52765606 0.53493179 0.53054981 0.51624638 0.51575031 0.50888797\n",
      " 0.52062836 0.53377429 0.5345184  0.5165771  0.51558495 0.52757338\n",
      " 0.52492766 0.49822241 0.51318727 0.5056635  0.50268706 0.4877222\n",
      " 0.49689955 0.49731294 0.49078131 0.50004134 0.52244729 0.53261678\n",
      " 0.52691195 0.52806945 0.5013642  0.50640761 0.49880116 0.49144274\n",
      " 0.51169905 0.5165771  0.50657296 0.50235635 0.49780901 0.47722199\n",
      " 0.47846217 0.48267879 0.46945019 0.44878049 0.44357172 0.44993799\n",
      " 0.45283175 0.46308392 0.44729227 0.44894585 0.46308392 0.47598181\n",
      " 0.48648202 0.49524597 0.47722199 0.47631253 0.48003307 0.48102522\n",
      " 0.47372425 0.46639875 0.46105123 0.45708174 0.45416304 0.45188165\n",
      " 0.44989291 0.44796109 0.44595543 0.44382653]\n",
      "10 day input [[0.4415789]]\n",
      "11 day input [0.42463828 0.4358826  0.43670938 0.43745349 0.4276974  0.45035138\n",
      " 0.44605209 0.45126085 0.46696982 0.4849938  0.48854899 0.49913187\n",
      " 0.51326995 0.53212071 0.52302604 0.50649029 0.51260852 0.50649029\n",
      " 0.51103762 0.52443158 0.54551468 0.54419181 0.55469202 0.52881356\n",
      " 0.53352625 0.53402232 0.50508475 0.50913601 0.51252584 0.51880943\n",
      " 0.52244729 0.53170732 0.53427036 0.54510128 0.5298057  0.52765606\n",
      " 0.53493179 0.53054981 0.51624638 0.51575031 0.50888797 0.52062836\n",
      " 0.53377429 0.5345184  0.5165771  0.51558495 0.52757338 0.52492766\n",
      " 0.49822241 0.51318727 0.5056635  0.50268706 0.4877222  0.49689955\n",
      " 0.49731294 0.49078131 0.50004134 0.52244729 0.53261678 0.52691195\n",
      " 0.52806945 0.5013642  0.50640761 0.49880116 0.49144274 0.51169905\n",
      " 0.5165771  0.50657296 0.50235635 0.49780901 0.47722199 0.47846217\n",
      " 0.48267879 0.46945019 0.44878049 0.44357172 0.44993799 0.45283175\n",
      " 0.46308392 0.44729227 0.44894585 0.46308392 0.47598181 0.48648202\n",
      " 0.49524597 0.47722199 0.47631253 0.48003307 0.48102522 0.47372425\n",
      " 0.46639875 0.46105123 0.45708174 0.45416304 0.45188165 0.44989291\n",
      " 0.44796109 0.44595543 0.44382653 0.44157889]\n",
      "11 day input [[0.43924677]]\n",
      "12 day input [0.4358826  0.43670938 0.43745349 0.4276974  0.45035138 0.44605209\n",
      " 0.45126085 0.46696982 0.4849938  0.48854899 0.49913187 0.51326995\n",
      " 0.53212071 0.52302604 0.50649029 0.51260852 0.50649029 0.51103762\n",
      " 0.52443158 0.54551468 0.54419181 0.55469202 0.52881356 0.53352625\n",
      " 0.53402232 0.50508475 0.50913601 0.51252584 0.51880943 0.52244729\n",
      " 0.53170732 0.53427036 0.54510128 0.5298057  0.52765606 0.53493179\n",
      " 0.53054981 0.51624638 0.51575031 0.50888797 0.52062836 0.53377429\n",
      " 0.5345184  0.5165771  0.51558495 0.52757338 0.52492766 0.49822241\n",
      " 0.51318727 0.5056635  0.50268706 0.4877222  0.49689955 0.49731294\n",
      " 0.49078131 0.50004134 0.52244729 0.53261678 0.52691195 0.52806945\n",
      " 0.5013642  0.50640761 0.49880116 0.49144274 0.51169905 0.5165771\n",
      " 0.50657296 0.50235635 0.49780901 0.47722199 0.47846217 0.48267879\n",
      " 0.46945019 0.44878049 0.44357172 0.44993799 0.45283175 0.46308392\n",
      " 0.44729227 0.44894585 0.46308392 0.47598181 0.48648202 0.49524597\n",
      " 0.47722199 0.47631253 0.48003307 0.48102522 0.47372425 0.46639875\n",
      " 0.46105123 0.45708174 0.45416304 0.45188165 0.44989291 0.44796109\n",
      " 0.44595543 0.44382653 0.44157889 0.43924677]\n",
      "12 day input [[0.43687552]]\n",
      "13 day input [0.43670938 0.43745349 0.4276974  0.45035138 0.44605209 0.45126085\n",
      " 0.46696982 0.4849938  0.48854899 0.49913187 0.51326995 0.53212071\n",
      " 0.52302604 0.50649029 0.51260852 0.50649029 0.51103762 0.52443158\n",
      " 0.54551468 0.54419181 0.55469202 0.52881356 0.53352625 0.53402232\n",
      " 0.50508475 0.50913601 0.51252584 0.51880943 0.52244729 0.53170732\n",
      " 0.53427036 0.54510128 0.5298057  0.52765606 0.53493179 0.53054981\n",
      " 0.51624638 0.51575031 0.50888797 0.52062836 0.53377429 0.5345184\n",
      " 0.5165771  0.51558495 0.52757338 0.52492766 0.49822241 0.51318727\n",
      " 0.5056635  0.50268706 0.4877222  0.49689955 0.49731294 0.49078131\n",
      " 0.50004134 0.52244729 0.53261678 0.52691195 0.52806945 0.5013642\n",
      " 0.50640761 0.49880116 0.49144274 0.51169905 0.5165771  0.50657296\n",
      " 0.50235635 0.49780901 0.47722199 0.47846217 0.48267879 0.46945019\n",
      " 0.44878049 0.44357172 0.44993799 0.45283175 0.46308392 0.44729227\n",
      " 0.44894585 0.46308392 0.47598181 0.48648202 0.49524597 0.47722199\n",
      " 0.47631253 0.48003307 0.48102522 0.47372425 0.46639875 0.46105123\n",
      " 0.45708174 0.45416304 0.45188165 0.44989291 0.44796109 0.44595543\n",
      " 0.44382653 0.44157889 0.43924677 0.43687552]\n",
      "13 day input [[0.43451038]]\n",
      "14 day input [0.43745349 0.4276974  0.45035138 0.44605209 0.45126085 0.46696982\n",
      " 0.4849938  0.48854899 0.49913187 0.51326995 0.53212071 0.52302604\n",
      " 0.50649029 0.51260852 0.50649029 0.51103762 0.52443158 0.54551468\n",
      " 0.54419181 0.55469202 0.52881356 0.53352625 0.53402232 0.50508475\n",
      " 0.50913601 0.51252584 0.51880943 0.52244729 0.53170732 0.53427036\n",
      " 0.54510128 0.5298057  0.52765606 0.53493179 0.53054981 0.51624638\n",
      " 0.51575031 0.50888797 0.52062836 0.53377429 0.5345184  0.5165771\n",
      " 0.51558495 0.52757338 0.52492766 0.49822241 0.51318727 0.5056635\n",
      " 0.50268706 0.4877222  0.49689955 0.49731294 0.49078131 0.50004134\n",
      " 0.52244729 0.53261678 0.52691195 0.52806945 0.5013642  0.50640761\n",
      " 0.49880116 0.49144274 0.51169905 0.5165771  0.50657296 0.50235635\n",
      " 0.49780901 0.47722199 0.47846217 0.48267879 0.46945019 0.44878049\n",
      " 0.44357172 0.44993799 0.45283175 0.46308392 0.44729227 0.44894585\n",
      " 0.46308392 0.47598181 0.48648202 0.49524597 0.47722199 0.47631253\n",
      " 0.48003307 0.48102522 0.47372425 0.46639875 0.46105123 0.45708174\n",
      " 0.45416304 0.45188165 0.44989291 0.44796109 0.44595543 0.44382653\n",
      " 0.44157889 0.43924677 0.43687552 0.43451038]\n",
      "14 day input [[0.43219045]]\n",
      "15 day input [0.4276974  0.45035138 0.44605209 0.45126085 0.46696982 0.4849938\n",
      " 0.48854899 0.49913187 0.51326995 0.53212071 0.52302604 0.50649029\n",
      " 0.51260852 0.50649029 0.51103762 0.52443158 0.54551468 0.54419181\n",
      " 0.55469202 0.52881356 0.53352625 0.53402232 0.50508475 0.50913601\n",
      " 0.51252584 0.51880943 0.52244729 0.53170732 0.53427036 0.54510128\n",
      " 0.5298057  0.52765606 0.53493179 0.53054981 0.51624638 0.51575031\n",
      " 0.50888797 0.52062836 0.53377429 0.5345184  0.5165771  0.51558495\n",
      " 0.52757338 0.52492766 0.49822241 0.51318727 0.5056635  0.50268706\n",
      " 0.4877222  0.49689955 0.49731294 0.49078131 0.50004134 0.52244729\n",
      " 0.53261678 0.52691195 0.52806945 0.5013642  0.50640761 0.49880116\n",
      " 0.49144274 0.51169905 0.5165771  0.50657296 0.50235635 0.49780901\n",
      " 0.47722199 0.47846217 0.48267879 0.46945019 0.44878049 0.44357172\n",
      " 0.44993799 0.45283175 0.46308392 0.44729227 0.44894585 0.46308392\n",
      " 0.47598181 0.48648202 0.49524597 0.47722199 0.47631253 0.48003307\n",
      " 0.48102522 0.47372425 0.46639875 0.46105123 0.45708174 0.45416304\n",
      " 0.45188165 0.44989291 0.44796109 0.44595543 0.44382653 0.44157889\n",
      " 0.43924677 0.43687552 0.43451038 0.43219045]\n",
      "15 day input [[0.4299453]]\n",
      "16 day input [0.45035138 0.44605209 0.45126085 0.46696982 0.4849938  0.48854899\n",
      " 0.49913187 0.51326995 0.53212071 0.52302604 0.50649029 0.51260852\n",
      " 0.50649029 0.51103762 0.52443158 0.54551468 0.54419181 0.55469202\n",
      " 0.52881356 0.53352625 0.53402232 0.50508475 0.50913601 0.51252584\n",
      " 0.51880943 0.52244729 0.53170732 0.53427036 0.54510128 0.5298057\n",
      " 0.52765606 0.53493179 0.53054981 0.51624638 0.51575031 0.50888797\n",
      " 0.52062836 0.53377429 0.5345184  0.5165771  0.51558495 0.52757338\n",
      " 0.52492766 0.49822241 0.51318727 0.5056635  0.50268706 0.4877222\n",
      " 0.49689955 0.49731294 0.49078131 0.50004134 0.52244729 0.53261678\n",
      " 0.52691195 0.52806945 0.5013642  0.50640761 0.49880116 0.49144274\n",
      " 0.51169905 0.5165771  0.50657296 0.50235635 0.49780901 0.47722199\n",
      " 0.47846217 0.48267879 0.46945019 0.44878049 0.44357172 0.44993799\n",
      " 0.45283175 0.46308392 0.44729227 0.44894585 0.46308392 0.47598181\n",
      " 0.48648202 0.49524597 0.47722199 0.47631253 0.48003307 0.48102522\n",
      " 0.47372425 0.46639875 0.46105123 0.45708174 0.45416304 0.45188165\n",
      " 0.44989291 0.44796109 0.44595543 0.44382653 0.44157889 0.43924677\n",
      " 0.43687552 0.43451038 0.43219045 0.42994529]\n",
      "16 day input [[0.4277953]]\n",
      "17 day input [0.44605209 0.45126085 0.46696982 0.4849938  0.48854899 0.49913187\n",
      " 0.51326995 0.53212071 0.52302604 0.50649029 0.51260852 0.50649029\n",
      " 0.51103762 0.52443158 0.54551468 0.54419181 0.55469202 0.52881356\n",
      " 0.53352625 0.53402232 0.50508475 0.50913601 0.51252584 0.51880943\n",
      " 0.52244729 0.53170732 0.53427036 0.54510128 0.5298057  0.52765606\n",
      " 0.53493179 0.53054981 0.51624638 0.51575031 0.50888797 0.52062836\n",
      " 0.53377429 0.5345184  0.5165771  0.51558495 0.52757338 0.52492766\n",
      " 0.49822241 0.51318727 0.5056635  0.50268706 0.4877222  0.49689955\n",
      " 0.49731294 0.49078131 0.50004134 0.52244729 0.53261678 0.52691195\n",
      " 0.52806945 0.5013642  0.50640761 0.49880116 0.49144274 0.51169905\n",
      " 0.5165771  0.50657296 0.50235635 0.49780901 0.47722199 0.47846217\n",
      " 0.48267879 0.46945019 0.44878049 0.44357172 0.44993799 0.45283175\n",
      " 0.46308392 0.44729227 0.44894585 0.46308392 0.47598181 0.48648202\n",
      " 0.49524597 0.47722199 0.47631253 0.48003307 0.48102522 0.47372425\n",
      " 0.46639875 0.46105123 0.45708174 0.45416304 0.45188165 0.44989291\n",
      " 0.44796109 0.44595543 0.44382653 0.44157889 0.43924677 0.43687552\n",
      " 0.43451038 0.43219045 0.42994529 0.42779529]\n",
      "17 day input [[0.42575258]]\n",
      "18 day input [0.45126085 0.46696982 0.4849938  0.48854899 0.49913187 0.51326995\n",
      " 0.53212071 0.52302604 0.50649029 0.51260852 0.50649029 0.51103762\n",
      " 0.52443158 0.54551468 0.54419181 0.55469202 0.52881356 0.53352625\n",
      " 0.53402232 0.50508475 0.50913601 0.51252584 0.51880943 0.52244729\n",
      " 0.53170732 0.53427036 0.54510128 0.5298057  0.52765606 0.53493179\n",
      " 0.53054981 0.51624638 0.51575031 0.50888797 0.52062836 0.53377429\n",
      " 0.5345184  0.5165771  0.51558495 0.52757338 0.52492766 0.49822241\n",
      " 0.51318727 0.5056635  0.50268706 0.4877222  0.49689955 0.49731294\n",
      " 0.49078131 0.50004134 0.52244729 0.53261678 0.52691195 0.52806945\n",
      " 0.5013642  0.50640761 0.49880116 0.49144274 0.51169905 0.5165771\n",
      " 0.50657296 0.50235635 0.49780901 0.47722199 0.47846217 0.48267879\n",
      " 0.46945019 0.44878049 0.44357172 0.44993799 0.45283175 0.46308392\n",
      " 0.44729227 0.44894585 0.46308392 0.47598181 0.48648202 0.49524597\n",
      " 0.47722199 0.47631253 0.48003307 0.48102522 0.47372425 0.46639875\n",
      " 0.46105123 0.45708174 0.45416304 0.45188165 0.44989291 0.44796109\n",
      " 0.44595543 0.44382653 0.44157889 0.43924677 0.43687552 0.43451038\n",
      " 0.43219045 0.42994529 0.42779529 0.42575258]\n"
     ]
    },
    {
     "name": "stdout",
     "output_type": "stream",
     "text": [
      "18 day input [[0.42382318]]\n",
      "19 day input [0.46696982 0.4849938  0.48854899 0.49913187 0.51326995 0.53212071\n",
      " 0.52302604 0.50649029 0.51260852 0.50649029 0.51103762 0.52443158\n",
      " 0.54551468 0.54419181 0.55469202 0.52881356 0.53352625 0.53402232\n",
      " 0.50508475 0.50913601 0.51252584 0.51880943 0.52244729 0.53170732\n",
      " 0.53427036 0.54510128 0.5298057  0.52765606 0.53493179 0.53054981\n",
      " 0.51624638 0.51575031 0.50888797 0.52062836 0.53377429 0.5345184\n",
      " 0.5165771  0.51558495 0.52757338 0.52492766 0.49822241 0.51318727\n",
      " 0.5056635  0.50268706 0.4877222  0.49689955 0.49731294 0.49078131\n",
      " 0.50004134 0.52244729 0.53261678 0.52691195 0.52806945 0.5013642\n",
      " 0.50640761 0.49880116 0.49144274 0.51169905 0.5165771  0.50657296\n",
      " 0.50235635 0.49780901 0.47722199 0.47846217 0.48267879 0.46945019\n",
      " 0.44878049 0.44357172 0.44993799 0.45283175 0.46308392 0.44729227\n",
      " 0.44894585 0.46308392 0.47598181 0.48648202 0.49524597 0.47722199\n",
      " 0.47631253 0.48003307 0.48102522 0.47372425 0.46639875 0.46105123\n",
      " 0.45708174 0.45416304 0.45188165 0.44989291 0.44796109 0.44595543\n",
      " 0.44382653 0.44157889 0.43924677 0.43687552 0.43451038 0.43219045\n",
      " 0.42994529 0.42779529 0.42575258 0.42382318]\n",
      "19 day input [[0.42200822]]\n",
      "20 day input [0.4849938  0.48854899 0.49913187 0.51326995 0.53212071 0.52302604\n",
      " 0.50649029 0.51260852 0.50649029 0.51103762 0.52443158 0.54551468\n",
      " 0.54419181 0.55469202 0.52881356 0.53352625 0.53402232 0.50508475\n",
      " 0.50913601 0.51252584 0.51880943 0.52244729 0.53170732 0.53427036\n",
      " 0.54510128 0.5298057  0.52765606 0.53493179 0.53054981 0.51624638\n",
      " 0.51575031 0.50888797 0.52062836 0.53377429 0.5345184  0.5165771\n",
      " 0.51558495 0.52757338 0.52492766 0.49822241 0.51318727 0.5056635\n",
      " 0.50268706 0.4877222  0.49689955 0.49731294 0.49078131 0.50004134\n",
      " 0.52244729 0.53261678 0.52691195 0.52806945 0.5013642  0.50640761\n",
      " 0.49880116 0.49144274 0.51169905 0.5165771  0.50657296 0.50235635\n",
      " 0.49780901 0.47722199 0.47846217 0.48267879 0.46945019 0.44878049\n",
      " 0.44357172 0.44993799 0.45283175 0.46308392 0.44729227 0.44894585\n",
      " 0.46308392 0.47598181 0.48648202 0.49524597 0.47722199 0.47631253\n",
      " 0.48003307 0.48102522 0.47372425 0.46639875 0.46105123 0.45708174\n",
      " 0.45416304 0.45188165 0.44989291 0.44796109 0.44595543 0.44382653\n",
      " 0.44157889 0.43924677 0.43687552 0.43451038 0.43219045 0.42994529\n",
      " 0.42779529 0.42575258 0.42382318 0.42200822]\n",
      "20 day input [[0.42030615]]\n",
      "21 day input [0.48854899 0.49913187 0.51326995 0.53212071 0.52302604 0.50649029\n",
      " 0.51260852 0.50649029 0.51103762 0.52443158 0.54551468 0.54419181\n",
      " 0.55469202 0.52881356 0.53352625 0.53402232 0.50508475 0.50913601\n",
      " 0.51252584 0.51880943 0.52244729 0.53170732 0.53427036 0.54510128\n",
      " 0.5298057  0.52765606 0.53493179 0.53054981 0.51624638 0.51575031\n",
      " 0.50888797 0.52062836 0.53377429 0.5345184  0.5165771  0.51558495\n",
      " 0.52757338 0.52492766 0.49822241 0.51318727 0.5056635  0.50268706\n",
      " 0.4877222  0.49689955 0.49731294 0.49078131 0.50004134 0.52244729\n",
      " 0.53261678 0.52691195 0.52806945 0.5013642  0.50640761 0.49880116\n",
      " 0.49144274 0.51169905 0.5165771  0.50657296 0.50235635 0.49780901\n",
      " 0.47722199 0.47846217 0.48267879 0.46945019 0.44878049 0.44357172\n",
      " 0.44993799 0.45283175 0.46308392 0.44729227 0.44894585 0.46308392\n",
      " 0.47598181 0.48648202 0.49524597 0.47722199 0.47631253 0.48003307\n",
      " 0.48102522 0.47372425 0.46639875 0.46105123 0.45708174 0.45416304\n",
      " 0.45188165 0.44989291 0.44796109 0.44595543 0.44382653 0.44157889\n",
      " 0.43924677 0.43687552 0.43451038 0.43219045 0.42994529 0.42779529\n",
      " 0.42575258 0.42382318 0.42200822 0.42030615]\n",
      "21 day input [[0.41871375]]\n",
      "22 day input [0.49913187 0.51326995 0.53212071 0.52302604 0.50649029 0.51260852\n",
      " 0.50649029 0.51103762 0.52443158 0.54551468 0.54419181 0.55469202\n",
      " 0.52881356 0.53352625 0.53402232 0.50508475 0.50913601 0.51252584\n",
      " 0.51880943 0.52244729 0.53170732 0.53427036 0.54510128 0.5298057\n",
      " 0.52765606 0.53493179 0.53054981 0.51624638 0.51575031 0.50888797\n",
      " 0.52062836 0.53377429 0.5345184  0.5165771  0.51558495 0.52757338\n",
      " 0.52492766 0.49822241 0.51318727 0.5056635  0.50268706 0.4877222\n",
      " 0.49689955 0.49731294 0.49078131 0.50004134 0.52244729 0.53261678\n",
      " 0.52691195 0.52806945 0.5013642  0.50640761 0.49880116 0.49144274\n",
      " 0.51169905 0.5165771  0.50657296 0.50235635 0.49780901 0.47722199\n",
      " 0.47846217 0.48267879 0.46945019 0.44878049 0.44357172 0.44993799\n",
      " 0.45283175 0.46308392 0.44729227 0.44894585 0.46308392 0.47598181\n",
      " 0.48648202 0.49524597 0.47722199 0.47631253 0.48003307 0.48102522\n",
      " 0.47372425 0.46639875 0.46105123 0.45708174 0.45416304 0.45188165\n",
      " 0.44989291 0.44796109 0.44595543 0.44382653 0.44157889 0.43924677\n",
      " 0.43687552 0.43451038 0.43219045 0.42994529 0.42779529 0.42575258\n",
      " 0.42382318 0.42200822 0.42030615 0.41871375]\n",
      "22 day input [[0.41722742]]\n",
      "23 day input [0.51326995 0.53212071 0.52302604 0.50649029 0.51260852 0.50649029\n",
      " 0.51103762 0.52443158 0.54551468 0.54419181 0.55469202 0.52881356\n",
      " 0.53352625 0.53402232 0.50508475 0.50913601 0.51252584 0.51880943\n",
      " 0.52244729 0.53170732 0.53427036 0.54510128 0.5298057  0.52765606\n",
      " 0.53493179 0.53054981 0.51624638 0.51575031 0.50888797 0.52062836\n",
      " 0.53377429 0.5345184  0.5165771  0.51558495 0.52757338 0.52492766\n",
      " 0.49822241 0.51318727 0.5056635  0.50268706 0.4877222  0.49689955\n",
      " 0.49731294 0.49078131 0.50004134 0.52244729 0.53261678 0.52691195\n",
      " 0.52806945 0.5013642  0.50640761 0.49880116 0.49144274 0.51169905\n",
      " 0.5165771  0.50657296 0.50235635 0.49780901 0.47722199 0.47846217\n",
      " 0.48267879 0.46945019 0.44878049 0.44357172 0.44993799 0.45283175\n",
      " 0.46308392 0.44729227 0.44894585 0.46308392 0.47598181 0.48648202\n",
      " 0.49524597 0.47722199 0.47631253 0.48003307 0.48102522 0.47372425\n",
      " 0.46639875 0.46105123 0.45708174 0.45416304 0.45188165 0.44989291\n",
      " 0.44796109 0.44595543 0.44382653 0.44157889 0.43924677 0.43687552\n",
      " 0.43451038 0.43219045 0.42994529 0.42779529 0.42575258 0.42382318\n",
      " 0.42200822 0.42030615 0.41871375 0.41722742]\n",
      "23 day input [[0.41584343]]\n",
      "24 day input [0.53212071 0.52302604 0.50649029 0.51260852 0.50649029 0.51103762\n",
      " 0.52443158 0.54551468 0.54419181 0.55469202 0.52881356 0.53352625\n",
      " 0.53402232 0.50508475 0.50913601 0.51252584 0.51880943 0.52244729\n",
      " 0.53170732 0.53427036 0.54510128 0.5298057  0.52765606 0.53493179\n",
      " 0.53054981 0.51624638 0.51575031 0.50888797 0.52062836 0.53377429\n",
      " 0.5345184  0.5165771  0.51558495 0.52757338 0.52492766 0.49822241\n",
      " 0.51318727 0.5056635  0.50268706 0.4877222  0.49689955 0.49731294\n",
      " 0.49078131 0.50004134 0.52244729 0.53261678 0.52691195 0.52806945\n",
      " 0.5013642  0.50640761 0.49880116 0.49144274 0.51169905 0.5165771\n",
      " 0.50657296 0.50235635 0.49780901 0.47722199 0.47846217 0.48267879\n",
      " 0.46945019 0.44878049 0.44357172 0.44993799 0.45283175 0.46308392\n",
      " 0.44729227 0.44894585 0.46308392 0.47598181 0.48648202 0.49524597\n",
      " 0.47722199 0.47631253 0.48003307 0.48102522 0.47372425 0.46639875\n",
      " 0.46105123 0.45708174 0.45416304 0.45188165 0.44989291 0.44796109\n",
      " 0.44595543 0.44382653 0.44157889 0.43924677 0.43687552 0.43451038\n",
      " 0.43219045 0.42994529 0.42779529 0.42575258 0.42382318 0.42200822\n",
      " 0.42030615 0.41871375 0.41722742 0.41584343]\n",
      "24 day input [[0.41455802]]\n",
      "25 day input [0.52302604 0.50649029 0.51260852 0.50649029 0.51103762 0.52443158\n",
      " 0.54551468 0.54419181 0.55469202 0.52881356 0.53352625 0.53402232\n",
      " 0.50508475 0.50913601 0.51252584 0.51880943 0.52244729 0.53170732\n",
      " 0.53427036 0.54510128 0.5298057  0.52765606 0.53493179 0.53054981\n",
      " 0.51624638 0.51575031 0.50888797 0.52062836 0.53377429 0.5345184\n",
      " 0.5165771  0.51558495 0.52757338 0.52492766 0.49822241 0.51318727\n",
      " 0.5056635  0.50268706 0.4877222  0.49689955 0.49731294 0.49078131\n",
      " 0.50004134 0.52244729 0.53261678 0.52691195 0.52806945 0.5013642\n",
      " 0.50640761 0.49880116 0.49144274 0.51169905 0.5165771  0.50657296\n",
      " 0.50235635 0.49780901 0.47722199 0.47846217 0.48267879 0.46945019\n",
      " 0.44878049 0.44357172 0.44993799 0.45283175 0.46308392 0.44729227\n",
      " 0.44894585 0.46308392 0.47598181 0.48648202 0.49524597 0.47722199\n",
      " 0.47631253 0.48003307 0.48102522 0.47372425 0.46639875 0.46105123\n",
      " 0.45708174 0.45416304 0.45188165 0.44989291 0.44796109 0.44595543\n",
      " 0.44382653 0.44157889 0.43924677 0.43687552 0.43451038 0.43219045\n",
      " 0.42994529 0.42779529 0.42575258 0.42382318 0.42200822 0.42030615\n",
      " 0.41871375 0.41722742 0.41584343 0.41455802]\n",
      "25 day input [[0.41336793]]\n",
      "26 day input [0.50649029 0.51260852 0.50649029 0.51103762 0.52443158 0.54551468\n",
      " 0.54419181 0.55469202 0.52881356 0.53352625 0.53402232 0.50508475\n",
      " 0.50913601 0.51252584 0.51880943 0.52244729 0.53170732 0.53427036\n",
      " 0.54510128 0.5298057  0.52765606 0.53493179 0.53054981 0.51624638\n",
      " 0.51575031 0.50888797 0.52062836 0.53377429 0.5345184  0.5165771\n",
      " 0.51558495 0.52757338 0.52492766 0.49822241 0.51318727 0.5056635\n",
      " 0.50268706 0.4877222  0.49689955 0.49731294 0.49078131 0.50004134\n",
      " 0.52244729 0.53261678 0.52691195 0.52806945 0.5013642  0.50640761\n",
      " 0.49880116 0.49144274 0.51169905 0.5165771  0.50657296 0.50235635\n",
      " 0.49780901 0.47722199 0.47846217 0.48267879 0.46945019 0.44878049\n",
      " 0.44357172 0.44993799 0.45283175 0.46308392 0.44729227 0.44894585\n",
      " 0.46308392 0.47598181 0.48648202 0.49524597 0.47722199 0.47631253\n",
      " 0.48003307 0.48102522 0.47372425 0.46639875 0.46105123 0.45708174\n",
      " 0.45416304 0.45188165 0.44989291 0.44796109 0.44595543 0.44382653\n",
      " 0.44157889 0.43924677 0.43687552 0.43451038 0.43219045 0.42994529\n",
      " 0.42779529 0.42575258 0.42382318 0.42200822 0.42030615 0.41871375\n",
      " 0.41722742 0.41584343 0.41455802 0.41336793]\n",
      "26 day input [[0.41227]]\n",
      "27 day input [0.51260852 0.50649029 0.51103762 0.52443158 0.54551468 0.54419181\n",
      " 0.55469202 0.52881356 0.53352625 0.53402232 0.50508475 0.50913601\n",
      " 0.51252584 0.51880943 0.52244729 0.53170732 0.53427036 0.54510128\n",
      " 0.5298057  0.52765606 0.53493179 0.53054981 0.51624638 0.51575031\n",
      " 0.50888797 0.52062836 0.53377429 0.5345184  0.5165771  0.51558495\n",
      " 0.52757338 0.52492766 0.49822241 0.51318727 0.5056635  0.50268706\n",
      " 0.4877222  0.49689955 0.49731294 0.49078131 0.50004134 0.52244729\n",
      " 0.53261678 0.52691195 0.52806945 0.5013642  0.50640761 0.49880116\n",
      " 0.49144274 0.51169905 0.5165771  0.50657296 0.50235635 0.49780901\n",
      " 0.47722199 0.47846217 0.48267879 0.46945019 0.44878049 0.44357172\n",
      " 0.44993799 0.45283175 0.46308392 0.44729227 0.44894585 0.46308392\n",
      " 0.47598181 0.48648202 0.49524597 0.47722199 0.47631253 0.48003307\n",
      " 0.48102522 0.47372425 0.46639875 0.46105123 0.45708174 0.45416304\n",
      " 0.45188165 0.44989291 0.44796109 0.44595543 0.44382653 0.44157889\n",
      " 0.43924677 0.43687552 0.43451038 0.43219045 0.42994529 0.42779529\n",
      " 0.42575258 0.42382318 0.42200822 0.42030615 0.41871375 0.41722742\n",
      " 0.41584343 0.41455802 0.41336793 0.41227001]\n",
      "27 day input [[0.41126126]]\n",
      "28 day input [0.50649029 0.51103762 0.52443158 0.54551468 0.54419181 0.55469202\n",
      " 0.52881356 0.53352625 0.53402232 0.50508475 0.50913601 0.51252584\n",
      " 0.51880943 0.52244729 0.53170732 0.53427036 0.54510128 0.5298057\n",
      " 0.52765606 0.53493179 0.53054981 0.51624638 0.51575031 0.50888797\n",
      " 0.52062836 0.53377429 0.5345184  0.5165771  0.51558495 0.52757338\n",
      " 0.52492766 0.49822241 0.51318727 0.5056635  0.50268706 0.4877222\n",
      " 0.49689955 0.49731294 0.49078131 0.50004134 0.52244729 0.53261678\n",
      " 0.52691195 0.52806945 0.5013642  0.50640761 0.49880116 0.49144274\n",
      " 0.51169905 0.5165771  0.50657296 0.50235635 0.49780901 0.47722199\n",
      " 0.47846217 0.48267879 0.46945019 0.44878049 0.44357172 0.44993799\n",
      " 0.45283175 0.46308392 0.44729227 0.44894585 0.46308392 0.47598181\n",
      " 0.48648202 0.49524597 0.47722199 0.47631253 0.48003307 0.48102522\n",
      " 0.47372425 0.46639875 0.46105123 0.45708174 0.45416304 0.45188165\n",
      " 0.44989291 0.44796109 0.44595543 0.44382653 0.44157889 0.43924677\n",
      " 0.43687552 0.43451038 0.43219045 0.42994529 0.42779529 0.42575258\n",
      " 0.42382318 0.42200822 0.42030615 0.41871375 0.41722742 0.41584343\n",
      " 0.41455802 0.41336793 0.41227001 0.41126126]\n"
     ]
    },
    {
     "name": "stdout",
     "output_type": "stream",
     "text": [
      "28 day input [[0.41033846]]\n",
      "29 day input [0.51103762 0.52443158 0.54551468 0.54419181 0.55469202 0.52881356\n",
      " 0.53352625 0.53402232 0.50508475 0.50913601 0.51252584 0.51880943\n",
      " 0.52244729 0.53170732 0.53427036 0.54510128 0.5298057  0.52765606\n",
      " 0.53493179 0.53054981 0.51624638 0.51575031 0.50888797 0.52062836\n",
      " 0.53377429 0.5345184  0.5165771  0.51558495 0.52757338 0.52492766\n",
      " 0.49822241 0.51318727 0.5056635  0.50268706 0.4877222  0.49689955\n",
      " 0.49731294 0.49078131 0.50004134 0.52244729 0.53261678 0.52691195\n",
      " 0.52806945 0.5013642  0.50640761 0.49880116 0.49144274 0.51169905\n",
      " 0.5165771  0.50657296 0.50235635 0.49780901 0.47722199 0.47846217\n",
      " 0.48267879 0.46945019 0.44878049 0.44357172 0.44993799 0.45283175\n",
      " 0.46308392 0.44729227 0.44894585 0.46308392 0.47598181 0.48648202\n",
      " 0.49524597 0.47722199 0.47631253 0.48003307 0.48102522 0.47372425\n",
      " 0.46639875 0.46105123 0.45708174 0.45416304 0.45188165 0.44989291\n",
      " 0.44796109 0.44595543 0.44382653 0.44157889 0.43924677 0.43687552\n",
      " 0.43451038 0.43219045 0.42994529 0.42779529 0.42575258 0.42382318\n",
      " 0.42200822 0.42030615 0.41871375 0.41722742 0.41584343 0.41455802\n",
      " 0.41336793 0.41227001 0.41126126 0.41033846]\n",
      "29 day input [[0.40949875]]\n",
      "[[0.47372424602508545], [0.4663987457752228], [0.46105122566223145], [0.45708173513412476], [0.4541630446910858], [0.45188164710998535], [0.44989290833473206], [0.44796109199523926], [0.44595542550086975], [0.4438265264034271], [0.4415788948535919], [0.4392467737197876], [0.43687552213668823], [0.43451038002967834], [0.4321904480457306], [0.42994529008865356], [0.42779529094696045], [0.42575258016586304], [0.42382317781448364], [0.422008216381073], [0.42030614614486694], [0.4187137484550476], [0.4172274172306061], [0.4158434271812439], [0.4145580232143402], [0.4133679270744324], [0.4122700095176697], [0.41126126050949097], [0.41033846139907837], [0.40949875116348267]]\n"
     ]
    }
   ],
   "source": [
    "from numpy import array\n",
    "lst_output = []\n",
    "n_step = 100\n",
    "i =0\n",
    "while (i<30):\n",
    "    if (len(temp_input)>100):\n",
    "        \n",
    "     ##print temp_inputab\n",
    "        x_input = np.array(temp_input[1:])\n",
    "        print(\"{} day input {}\".format(i,x_input))\n",
    "        x_input = x_input.reshape(1,-1)\n",
    "        x_input = x_input.reshape(1,n_step,1)\n",
    "        \n",
    "     ##print x_input\n",
    "        yhat = model.predict(x_input,verbose=0)\n",
    "        print(\"{} day input {}\".format(i,yhat))\n",
    "        temp_input.extend(yhat[0].tolist())\n",
    "        temp_input = temp_input[1:]\n",
    "        \n",
    "     ##print temp_input\n",
    "        lst_output.extend(yhat.tolist())\n",
    "        i = i+1\n",
    "    else:\n",
    "        x_input = x_input.reshape((1,n_step,1))\n",
    "        yhat = model.predict(x_input,verbose=0)\n",
    "        print(yhat[0])\n",
    "        temp_input.extend(yhat[0].tolist())\n",
    "        print(len(temp_input))\n",
    "        lst_output.extend(yhat.tolist())\n",
    "        i=i+1\n",
    "        \n",
    "print(lst_output)"
   ]
  },
  {
   "cell_type": "code",
   "execution_count": 49,
   "metadata": {
    "ExecuteTime": {
     "end_time": "2022-05-08T10:37:59.077221Z",
     "start_time": "2022-05-08T10:37:59.061656Z"
    }
   },
   "outputs": [],
   "source": [
    "day_new = np.arange(1,101)\n",
    "day_pred =np.arange(101,131)"
   ]
  },
  {
   "cell_type": "code",
   "execution_count": 50,
   "metadata": {
    "ExecuteTime": {
     "end_time": "2022-05-08T10:37:59.109214Z",
     "start_time": "2022-05-08T10:37:59.084215Z"
    }
   },
   "outputs": [
    {
     "data": {
      "text/plain": [
       "3897"
      ]
     },
     "execution_count": 50,
     "metadata": {},
     "output_type": "execute_result"
    }
   ],
   "source": [
    "len(tsd1)"
   ]
  },
  {
   "cell_type": "code",
   "execution_count": 51,
   "metadata": {
    "ExecuteTime": {
     "end_time": "2022-05-08T10:37:59.141216Z",
     "start_time": "2022-05-08T10:37:59.116217Z"
    }
   },
   "outputs": [],
   "source": [
    "tsd2 = tsd1.tolist()\n",
    "tsd2.extend(lst_output)"
   ]
  },
  {
   "cell_type": "code",
   "execution_count": 52,
   "metadata": {
    "ExecuteTime": {
     "end_time": "2022-05-08T10:37:59.518243Z",
     "start_time": "2022-05-08T10:37:59.145218Z"
    }
   },
   "outputs": [
    {
     "data": {
      "text/plain": [
       "[<matplotlib.lines.Line2D at 0x22cb366e310>]"
      ]
     },
     "execution_count": 52,
     "metadata": {},
     "output_type": "execute_result"
    },
    {
     "data": {
      "image/png": "[encoded data removed]",
      "text/plain": [
       "<Figure size 864x432 with 1 Axes>"
      ]
     },
     "metadata": {
      "needs_background": "light"
     },
     "output_type": "display_data"
    }
   ],
   "source": [
    "plt.figure(figsize=(12,6))\n",
    "plt.plot(day_new,scaler.inverse_transform(tsd1[3797:]))\n",
    "plt.plot(day_pred,scaler.inverse_transform(lst_output))"
   ]
  },
  {
   "cell_type": "code",
   "execution_count": 53,
   "metadata": {
    "ExecuteTime": {
     "end_time": "2022-05-08T10:37:59.769115Z",
     "start_time": "2022-05-08T10:37:59.518243Z"
    }
   },
   "outputs": [
    {
     "data": {
      "text/plain": [
       "[<matplotlib.lines.Line2D at 0x22cb3678a30>]"
      ]
     },
     "execution_count": 53,
     "metadata": {},
     "output_type": "execute_result"
    },
    {
     "data": {
      "image/png": "[encoded data removed]",
      "text/plain": [
       "<Figure size 864x432 with 1 Axes>"
      ]
     },
     "metadata": {
      "needs_background": "light"
     },
     "output_type": "display_data"
    }
   ],
   "source": [
    "tsd2 = tsd1.tolist()\n",
    "tsd2.extend(lst_output)\n",
    "plt.figure(figsize=(12,6))\n",
    "plt.title(\"forcast of next 30 days\")\n",
    "plt.plot(tsd2[0:])"
   ]
  },
  {
   "cell_type": "code",
   "execution_count": 54,
   "metadata": {
    "ExecuteTime": {
     "end_time": "2022-05-08T10:37:59.800374Z",
     "start_time": "2022-05-08T10:37:59.769115Z"
    }
   },
   "outputs": [],
   "source": [
    "tsd2 = scaler.inverse_transform(tsd2).tolist()"
   ]
  },
  {
   "cell_type": "code",
   "execution_count": 55,
   "metadata": {
    "ExecuteTime": {
     "end_time": "2022-05-08T10:38:00.078212Z",
     "start_time": "2022-05-08T10:37:59.800374Z"
    }
   },
   "outputs": [
    {
     "data": {
      "text/plain": [
       "[<matplotlib.lines.Line2D at 0x22cb2573160>]"
      ]
     },
     "execution_count": 55,
     "metadata": {},
     "output_type": "execute_result"
    },
    {
     "data": {
      "image/png": "[encoded data removed]",
      "text/plain": [
       "<Figure size 864x432 with 1 Axes>"
      ]
     },
     "metadata": {
      "needs_background": "light"
     },
     "output_type": "display_data"
    }
   ],
   "source": [
    "plt.figure(figsize=(12,6))\n",
    "plt.plot(tsd2)"
   ]
  },
  {
   "cell_type": "code",
   "execution_count": 56,
   "metadata": {
    "ExecuteTime": {
     "end_time": "2022-05-08T10:38:01.079238Z",
     "start_time": "2022-05-08T10:38:00.079644Z"
    }
   },
   "outputs": [],
   "source": [
    "# .sav file\n",
    "from keras.models import load_model \n",
    "model.save('my_model.h5')  \n",
    "# creates a HDF5 file 'my_model.h5'\n",
    "model = load_model('my_model.h5')"
   ]
  },
  {
   "cell_type": "code",
   "execution_count": 57,
   "metadata": {
    "ExecuteTime": {
     "end_time": "2022-05-08T10:38:14.848404Z",
     "start_time": "2022-05-08T10:38:01.080153Z"
    }
   },
   "outputs": [
    {
     "name": "stderr",
     "output_type": "stream",
     "text": [
      "WARNING:absl:Found untraced functions such as lstm_cell_3_layer_call_fn, lstm_cell_3_layer_call_and_return_conditional_losses, lstm_cell_4_layer_call_fn, lstm_cell_4_layer_call_and_return_conditional_losses, lstm_cell_5_layer_call_fn while saving (showing 5 of 15). These functions will not be directly callable after loading.\n"
     ]
    },
    {
     "name": "stdout",
     "output_type": "stream",
     "text": [
      "INFO:tensorflow:Assets written to: ram://c0190a3d-5e8e-4385-8895-8bfb611805a8/assets\n"
     ]
    },
    {
     "name": "stderr",
     "output_type": "stream",
     "text": [
      "INFO:tensorflow:Assets written to: ram://c0190a3d-5e8e-4385-8895-8bfb611805a8/assets\n",
      "WARNING:absl:<keras.layers.recurrent.LSTMCell object at 0x0000022CB384DD90> has the same name 'LSTMCell' as a built-in Keras object. Consider renaming <class 'keras.layers.recurrent.LSTMCell'> to avoid naming conflicts when loading with `tf.keras.models.load_model`. If renaming is not possible, pass the object in the `custom_objects` parameter of the load function.\n",
      "WARNING:absl:<keras.layers.recurrent.LSTMCell object at 0x0000022CB3785C10> has the same name 'LSTMCell' as a built-in Keras object. Consider renaming <class 'keras.layers.recurrent.LSTMCell'> to avoid naming conflicts when loading with `tf.keras.models.load_model`. If renaming is not possible, pass the object in the `custom_objects` parameter of the load function.\n",
      "WARNING:absl:<keras.layers.recurrent.LSTMCell object at 0x0000022CB3791E80> has the same name 'LSTMCell' as a built-in Keras object. Consider renaming <class 'keras.layers.recurrent.LSTMCell'> to avoid naming conflicts when loading with `tf.keras.models.load_model`. If renaming is not possible, pass the object in the `custom_objects` parameter of the load function.\n"
     ]
    },
    {
     "ename": "NotFoundError",
     "evalue": "",
     "output_type": "error",
     "traceback": [
      "\u001b[1;31m---------------------------------------------------------------------------\u001b[0m",
      "\u001b[1;31mNotFoundError\u001b[0m                             Traceback (most recent call last)",
      "\u001b[1;32m<ipython-input-57-540db65a9020>\u001b[0m in \u001b[0;36m<module>\u001b[1;34m\u001b[0m\n\u001b[0;32m      2\u001b[0m \u001b[1;32mimport\u001b[0m \u001b[0mpickle\u001b[0m\u001b[1;33m\u001b[0m\u001b[1;33m\u001b[0m\u001b[0m\n\u001b[0;32m      3\u001b[0m \u001b[1;32mwith\u001b[0m \u001b[0mopen\u001b[0m\u001b[1;33m(\u001b[0m\u001b[1;34m'Natural Gas_final_df.pickle'\u001b[0m\u001b[1;33m,\u001b[0m\u001b[1;34m'wb'\u001b[0m\u001b[1;33m)\u001b[0m \u001b[1;32mas\u001b[0m \u001b[0mf\u001b[0m\u001b[1;33m:\u001b[0m\u001b[1;33m\u001b[0m\u001b[1;33m\u001b[0m\u001b[0m\n\u001b[1;32m----> 4\u001b[1;33m     \u001b[0mpickle\u001b[0m\u001b[1;33m.\u001b[0m\u001b[0mdump\u001b[0m\u001b[1;33m(\u001b[0m\u001b[0mmodel\u001b[0m\u001b[1;33m,\u001b[0m\u001b[0mf\u001b[0m\u001b[1;33m)\u001b[0m\u001b[1;33m\u001b[0m\u001b[1;33m\u001b[0m\u001b[0m\n\u001b[0m",
      "\u001b[1;32m~\\anaconda3\\lib\\site-packages\\keras\\engine\\training.py\u001b[0m in \u001b[0;36m__reduce__\u001b[1;34m(self)\u001b[0m\n\u001b[0;32m    313\u001b[0m     \u001b[1;32mif\u001b[0m \u001b[0mself\u001b[0m\u001b[1;33m.\u001b[0m\u001b[0mbuilt\u001b[0m\u001b[1;33m:\u001b[0m\u001b[1;33m\u001b[0m\u001b[1;33m\u001b[0m\u001b[0m\n\u001b[0;32m    314\u001b[0m       return (pickle_utils.deserialize_model_from_bytecode,\n\u001b[1;32m--> 315\u001b[1;33m               pickle_utils.serialize_model_as_bytecode(self))\n\u001b[0m\u001b[0;32m    316\u001b[0m     \u001b[1;32melse\u001b[0m\u001b[1;33m:\u001b[0m\u001b[1;33m\u001b[0m\u001b[1;33m\u001b[0m\u001b[0m\n\u001b[0;32m    317\u001b[0m       \u001b[1;31m# SavedModel (and hence serialize_model_as_bytecode) only support\u001b[0m\u001b[1;33m\u001b[0m\u001b[1;33m\u001b[0m\u001b[1;33m\u001b[0m\u001b[0m\n",
      "\u001b[1;32m~\\anaconda3\\lib\\site-packages\\keras\\saving\\pickle_utils.py\u001b[0m in \u001b[0;36mserialize_model_as_bytecode\u001b[1;34m(model)\u001b[0m\n\u001b[0;32m     75\u001b[0m         \u001b[1;32mwith\u001b[0m \u001b[0mtf\u001b[0m\u001b[1;33m.\u001b[0m\u001b[0mio\u001b[0m\u001b[1;33m.\u001b[0m\u001b[0mgfile\u001b[0m\u001b[1;33m.\u001b[0m\u001b[0mGFile\u001b[0m\u001b[1;33m(\u001b[0m\u001b[0mdest_path\u001b[0m\u001b[1;33m,\u001b[0m \u001b[1;34m\"rb\"\u001b[0m\u001b[1;33m)\u001b[0m \u001b[1;32mas\u001b[0m \u001b[0mf\u001b[0m\u001b[1;33m:\u001b[0m\u001b[1;33m\u001b[0m\u001b[1;33m\u001b[0m\u001b[0m\n\u001b[0;32m     76\u001b[0m           \u001b[0minfo\u001b[0m \u001b[1;33m=\u001b[0m \u001b[0mtarfile\u001b[0m\u001b[1;33m.\u001b[0m\u001b[0mTarInfo\u001b[0m\u001b[1;33m(\u001b[0m\u001b[0mname\u001b[0m\u001b[1;33m=\u001b[0m\u001b[0mos\u001b[0m\u001b[1;33m.\u001b[0m\u001b[0mpath\u001b[0m\u001b[1;33m.\u001b[0m\u001b[0mrelpath\u001b[0m\u001b[1;33m(\u001b[0m\u001b[0mdest_path\u001b[0m\u001b[1;33m,\u001b[0m \u001b[0mtemp_dir\u001b[0m\u001b[1;33m)\u001b[0m\u001b[1;33m)\u001b[0m\u001b[1;33m\u001b[0m\u001b[1;33m\u001b[0m\u001b[0m\n\u001b[1;32m---> 77\u001b[1;33m           \u001b[0minfo\u001b[0m\u001b[1;33m.\u001b[0m\u001b[0msize\u001b[0m \u001b[1;33m=\u001b[0m \u001b[0mf\u001b[0m\u001b[1;33m.\u001b[0m\u001b[0msize\u001b[0m\u001b[1;33m(\u001b[0m\u001b[1;33m)\u001b[0m\u001b[1;33m\u001b[0m\u001b[1;33m\u001b[0m\u001b[0m\n\u001b[0m\u001b[0;32m     78\u001b[0m           \u001b[0marchive\u001b[0m\u001b[1;33m.\u001b[0m\u001b[0maddfile\u001b[0m\u001b[1;33m(\u001b[0m\u001b[0mtarinfo\u001b[0m\u001b[1;33m=\u001b[0m\u001b[0minfo\u001b[0m\u001b[1;33m,\u001b[0m \u001b[0mfileobj\u001b[0m\u001b[1;33m=\u001b[0m\u001b[0mf\u001b[0m\u001b[1;33m)\u001b[0m\u001b[1;33m\u001b[0m\u001b[1;33m\u001b[0m\u001b[0m\n\u001b[0;32m     79\u001b[0m   \u001b[0mtf\u001b[0m\u001b[1;33m.\u001b[0m\u001b[0mio\u001b[0m\u001b[1;33m.\u001b[0m\u001b[0mgfile\u001b[0m\u001b[1;33m.\u001b[0m\u001b[0mrmtree\u001b[0m\u001b[1;33m(\u001b[0m\u001b[0mtemp_dir\u001b[0m\u001b[1;33m)\u001b[0m\u001b[1;33m\u001b[0m\u001b[1;33m\u001b[0m\u001b[0m\n",
      "\u001b[1;32m~\\anaconda3\\lib\\site-packages\\tensorflow\\python\\lib\\io\\file_io.py\u001b[0m in \u001b[0;36msize\u001b[1;34m(self)\u001b[0m\n\u001b[0;32m     97\u001b[0m   \u001b[1;32mdef\u001b[0m \u001b[0msize\u001b[0m\u001b[1;33m(\u001b[0m\u001b[0mself\u001b[0m\u001b[1;33m)\u001b[0m\u001b[1;33m:\u001b[0m\u001b[1;33m\u001b[0m\u001b[1;33m\u001b[0m\u001b[0m\n\u001b[0;32m     98\u001b[0m     \u001b[1;34m\"\"\"Returns the size of the file.\"\"\"\u001b[0m\u001b[1;33m\u001b[0m\u001b[1;33m\u001b[0m\u001b[0m\n\u001b[1;32m---> 99\u001b[1;33m     \u001b[1;32mreturn\u001b[0m \u001b[0mstat\u001b[0m\u001b[1;33m(\u001b[0m\u001b[0mself\u001b[0m\u001b[1;33m.\u001b[0m\u001b[0m__name\u001b[0m\u001b[1;33m)\u001b[0m\u001b[1;33m.\u001b[0m\u001b[0mlength\u001b[0m\u001b[1;33m\u001b[0m\u001b[1;33m\u001b[0m\u001b[0m\n\u001b[0m\u001b[0;32m    100\u001b[0m \u001b[1;33m\u001b[0m\u001b[0m\n\u001b[0;32m    101\u001b[0m   \u001b[1;32mdef\u001b[0m \u001b[0mwrite\u001b[0m\u001b[1;33m(\u001b[0m\u001b[0mself\u001b[0m\u001b[1;33m,\u001b[0m \u001b[0mfile_content\u001b[0m\u001b[1;33m)\u001b[0m\u001b[1;33m:\u001b[0m\u001b[1;33m\u001b[0m\u001b[1;33m\u001b[0m\u001b[0m\n",
      "\u001b[1;32m~\\anaconda3\\lib\\site-packages\\tensorflow\\python\\lib\\io\\file_io.py\u001b[0m in \u001b[0;36mstat\u001b[1;34m(filename)\u001b[0m\n\u001b[0;32m    908\u001b[0m     \u001b[0merrors\u001b[0m\u001b[1;33m.\u001b[0m\u001b[0mOpError\u001b[0m\u001b[1;33m:\u001b[0m \u001b[0mIf\u001b[0m \u001b[0mthe\u001b[0m \u001b[0moperation\u001b[0m \u001b[0mfails\u001b[0m\u001b[1;33m.\u001b[0m\u001b[1;33m\u001b[0m\u001b[1;33m\u001b[0m\u001b[0m\n\u001b[0;32m    909\u001b[0m   \"\"\"\n\u001b[1;32m--> 910\u001b[1;33m   \u001b[1;32mreturn\u001b[0m \u001b[0mstat_v2\u001b[0m\u001b[1;33m(\u001b[0m\u001b[0mfilename\u001b[0m\u001b[1;33m)\u001b[0m\u001b[1;33m\u001b[0m\u001b[1;33m\u001b[0m\u001b[0m\n\u001b[0m\u001b[0;32m    911\u001b[0m \u001b[1;33m\u001b[0m\u001b[0m\n\u001b[0;32m    912\u001b[0m \u001b[1;33m\u001b[0m\u001b[0m\n",
      "\u001b[1;32m~\\anaconda3\\lib\\site-packages\\tensorflow\\python\\lib\\io\\file_io.py\u001b[0m in \u001b[0;36mstat_v2\u001b[1;34m(path)\u001b[0m\n\u001b[0;32m    924\u001b[0m     \u001b[0merrors\u001b[0m\u001b[1;33m.\u001b[0m\u001b[0mOpError\u001b[0m\u001b[1;33m:\u001b[0m \u001b[0mIf\u001b[0m \u001b[0mthe\u001b[0m \u001b[0moperation\u001b[0m \u001b[0mfails\u001b[0m\u001b[1;33m.\u001b[0m\u001b[1;33m\u001b[0m\u001b[1;33m\u001b[0m\u001b[0m\n\u001b[0;32m    925\u001b[0m   \"\"\"\n\u001b[1;32m--> 926\u001b[1;33m   \u001b[1;32mreturn\u001b[0m \u001b[0m_pywrap_file_io\u001b[0m\u001b[1;33m.\u001b[0m\u001b[0mStat\u001b[0m\u001b[1;33m(\u001b[0m\u001b[0mcompat\u001b[0m\u001b[1;33m.\u001b[0m\u001b[0mpath_to_str\u001b[0m\u001b[1;33m(\u001b[0m\u001b[0mpath\u001b[0m\u001b[1;33m)\u001b[0m\u001b[1;33m)\u001b[0m\u001b[1;33m\u001b[0m\u001b[1;33m\u001b[0m\u001b[0m\n\u001b[0m\u001b[0;32m    927\u001b[0m \u001b[1;33m\u001b[0m\u001b[0m\n\u001b[0;32m    928\u001b[0m \u001b[1;33m\u001b[0m\u001b[0m\n",
      "\u001b[1;31mNotFoundError\u001b[0m: "
     ]
    }
   ],
   "source": [
    "# .pickle file\n",
    "import pickle\n",
    "with open('Natural Gas_final_df.pickle','wb') as f:\n",
    "    pickle.dump(model,f)"
   ]
  },
  {
   "cell_type": "code",
   "execution_count": null,
   "metadata": {
    "ExecuteTime": {
     "end_time": "2022-05-08T10:38:14.859775Z",
     "start_time": "2022-05-08T10:22:30.684Z"
    }
   },
   "outputs": [],
   "source": [
    "np.savetxt('data.csv',test_data,delimiter=',')"
   ]
  },
  {
   "cell_type": "code",
   "execution_count": null,
   "metadata": {
    "ExecuteTime": {
     "end_time": "2022-05-08T10:38:14.861775Z",
     "start_time": "2022-05-08T10:22:30.689Z"
    }
   },
   "outputs": [],
   "source": [
    "test_data"
   ]
  },
  {
   "cell_type": "code",
   "execution_count": null,
   "metadata": {
    "ExecuteTime": {
     "end_time": "2022-05-08T10:38:14.863774Z",
     "start_time": "2022-05-08T10:22:30.695Z"
    }
   },
   "outputs": [],
   "source": [
    "arr = np.loadtxt(\"data.csv\", delimiter=\",\")\n",
    "arr"
   ]
  },
  {
   "cell_type": "code",
   "execution_count": null,
   "metadata": {},
   "outputs": [],
   "source": []
  }
 ],
 "metadata": {
  "kernelspec": {
   "display_name": "Python 3",
   "language": "python",
   "name": "python3"
  },
  "language_info": {
   "codemirror_mode": {
    "name": "ipython",
    "version": 3
   },
   "file_extension": ".py",
   "mimetype": "text/x-python",
   "name": "python",
   "nbconvert_exporter": "python",
   "pygments_lexer": "ipython3",
   "version": "3.8.5"
  },
  "toc": {
   "base_numbering": 1,
   "nav_menu": {},
   "number_sections": true,
   "sideBar": true,
   "skip_h1_title": false,
   "title_cell": "Table of Contents",
   "title_sidebar": "Contents",
   "toc_cell": false,
   "toc_position": {},
   "toc_section_display": true,
   "toc_window_display": false
  },
  "varInspector": {
   "cols": {
    "lenName": 16,
    "lenType": 16,
    "lenVar": 40
   },
   "kernels_config": {
    "python": {
     "delete_cmd_postfix": "",
     "delete_cmd_prefix": "del ",
     "library": "var_list.py",
     "varRefreshCmd": "print(var_dic_list())"
    },
    "r": {
     "delete_cmd_postfix": ") ",
     "delete_cmd_prefix": "rm(",
     "library": "var_list.r",
     "varRefreshCmd": "cat(var_dic_list()) "
    }
   },
   "types_to_exclude": [
    "module",
    "function",
    "builtin_function_or_method",
    "instance",
    "_Feature"
   ],
   "window_display": false
  }
 },
 "nbformat": 4,
 "nbformat_minor": 5
}
